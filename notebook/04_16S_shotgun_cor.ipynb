{
 "cells": [
  {
   "cell_type": "markdown",
   "metadata": {},
   "source": [
    "## 04 16S and shotgun correlation\n",
    "\n",
    "This notebook illustrates how the shotgun metagenomic species level information was matched for each OTU of interest as shown in [Figure 2A](assets/Figure_2A.tif) (and S3).\n",
    "***"
   ]
  },
  {
   "cell_type": "markdown",
   "metadata": {},
   "source": [
    "### 4.1 Clean environment. Load libraries."
   ]
  },
  {
   "cell_type": "code",
   "execution_count": 1,
   "metadata": {},
   "outputs": [],
   "source": [
    "rm(list = ls())\n",
    "\n",
    "##-- load libs\n",
    "suppressMessages(library(ggplot2))\n",
    "suppressMessages(library(reshape2))\n",
    "suppressMessages(library(ggcorrplot))"
   ]
  },
  {
   "cell_type": "markdown",
   "metadata": {},
   "source": [
    "### 4.2 Define a custom function to identify shotgun bugs that potentially match to 16S OTUs and compute correlation matrix. "
   ]
  },
  {
   "cell_type": "code",
   "execution_count": 2,
   "metadata": {},
   "outputs": [],
   "source": [
    "calc.cor = function(df1, df2, key1, key2) {\n",
    "  \n",
    "  ##-- select 16S OTUs and shotgun species based on keys\n",
    "  df1.flt = df1[key1,,drop=F]\n",
    "  df2.flt = df2[grep(paste0('f__',key2,'[|]'),row.names(df2)),,drop=F]\n",
    "  row.names(df2.flt) = \n",
    "    do.call(rbind.data.frame, (strsplit(row.names(df2.flt), '[|]')))[,7]\n",
    "  print(nrow(df2.flt))\n",
    "  \n",
    "  ##-- prepare input for correlation\n",
    "  my.df = merge(t(df1.flt), t(df2.flt),by = 'row.names')\n",
    "  row.names(my.df) = my.df[,1]\n",
    "  my.df = my.df[,-1]\n",
    "  my.df = my.df[,which(colSums(my.df>0)>=3)]\n",
    "  print(dim(my.df)) \n",
    "  print(colnames(my.df))\n",
    "  \n",
    "  ##-- compute a correlation matrix\n",
    "  my.cor = round(cor(my.df, method = 'spearman'), 5)\n",
    "  my.cor.sub = my.cor[!row.names(my.cor) %in% key1,\n",
    "                      colnames(my.cor) %in% key1,drop=F]\n",
    "  \n",
    "  ##-- sort higher to lower\n",
    "  my.cor.sub = my.cor.sub[rev(order(my.cor.sub[,1])),,drop=F] \n",
    "  \n",
    "  ##-- filter for positive correlation only\n",
    "  my.cor.sub = my.cor.sub[my.cor.sub[,1]>0,,drop=F] \n",
    "  \n",
    "  return(my.cor.sub)\n",
    "  \n",
    "}"
   ]
  },
  {
   "cell_type": "markdown",
   "metadata": {},
   "source": [
    "### 4.3 Import data files."
   ]
  },
  {
   "cell_type": "code",
   "execution_count": 3,
   "metadata": {},
   "outputs": [
    {
     "name": "stdout",
     "output_type": "stream",
     "text": [
      "[1] 63\n"
     ]
    }
   ],
   "source": [
    "##-- data files\n",
    "sample.file = '../data/human_16S.sampleinfo.csv'\n",
    "otu.file = '../data/human_16S.even13190.rel.sig.csv'\n",
    "shotgun.file = '../data/human_shotgun.rel.full.csv'\n",
    "qpcr.file = '../data/human_16S_qPCR.csv'\n",
    "stats.file = '../data/human_16S.even13190.stats.sig.csv'\n",
    "\n",
    "##-- import data \n",
    "sample = read.csv(sample.file, row.names = 1)\n",
    "otu = read.csv(otu.file, row.names = 1)\n",
    "shotgun = read.csv(shotgun.file, row.names = 1)\n",
    "qpcr = read.csv(qpcr.file, row.names = 1)\n",
    "stats = read.csv(stats.file, row.names = 1, stringsAsFactors = F)\n",
    "\n",
    "print(nrow(otu))"
   ]
  },
  {
   "cell_type": "markdown",
   "metadata": {},
   "source": [
    "### 4.4 Taking Bifido bug (OTU 559527) as an example to show how the shotgun species were selected. Pairwise correlation coefficient was computed between each species and OTU of interest. \n",
    "Note that we first narrow down the list of species based on family level match to limit the number of tests. Only species that positively correlate with each OTU were selected for further analysis."
   ]
  },
  {
   "cell_type": "code",
   "execution_count": 4,
   "metadata": {},
   "outputs": [
    {
     "name": "stdout",
     "output_type": "stream",
     "text": [
      "[1] \"Bifidobacteriaceae\"\n",
      "[1] 15\n",
      "[1] 39  9\n",
      "[1] \"559527|Bifidobacteriaceae\"           \n",
      "[2] \"s__Alloscardovia_omnicolens\"         \n",
      "[3] \"s__Bifidobacterium_adolescentis\"     \n",
      "[4] \"s__Bifidobacterium_bifidum\"          \n",
      "[5] \"s__Bifidobacterium_breve\"            \n",
      "[6] \"s__Bifidobacterium_dentium\"          \n",
      "[7] \"s__Bifidobacterium_longum\"           \n",
      "[8] \"s__Bifidobacterium_pseudocatenulatum\"\n",
      "[9] \"s__Scardovia_wiggsiae\"               \n",
      "                                     559527|Bifidobacteriaceae\n",
      "s__Bifidobacterium_longum                              0.82789\n",
      "s__Bifidobacterium_adolescentis                        0.76115\n",
      "s__Bifidobacterium_breve                               0.37482\n",
      "s__Alloscardovia_omnicolens                            0.34594\n",
      "s__Bifidobacterium_pseudocatenulatum                   0.23857\n",
      "s__Bifidobacterium_bifidum                             0.19538\n",
      "s__Bifidobacterium_dentium                             0.13176\n",
      "s__Scardovia_wiggsiae                                  0.03113\n"
     ]
    }
   ],
   "source": [
    "##-- first match 16S and shotgun bugs on family level\n",
    "\n",
    "otu.id = '559527'\n",
    "family = with(stats, Family.16S[row.names(stats)==otu.id])\n",
    "print(family)\n",
    "\n",
    "##-- make the function call to select shotgun species and compute correlation coefficient matrix\n",
    "data.plot = calc.cor(otu, shotgun, paste0(otu.id,'|',family), family)\n",
    "\n",
    "print(data.plot)"
   ]
  },
  {
   "cell_type": "markdown",
   "metadata": {},
   "source": [
    "### 4.5 Draw correlation dotplot for OTUs and positively correlated shotgun species."
   ]
  },
  {
   "cell_type": "code",
   "execution_count": 5,
   "metadata": {},
   "outputs": [
    {
     "data": {
      "image/png": "[encoded data removed]"
     },
     "metadata": {},
     "output_type": "display_data"
    }
   ],
   "source": [
    "##-- set up R plot display options in notebook\n",
    "options(jupyter.plot_mimetypes = \"image/png\")\n",
    "options(repr.plot.width = 6.5, repr.plot.height = 3)\n",
    "\n",
    "##-- plot correlation matrix\n",
    "p1 = ggcorrplot(data.plot, \n",
    "                method = 'circle',\n",
    "                show.diag = FALSE,\n",
    "                hc.order = FALSE, \n",
    "                show.legend = FALSE,\n",
    "                hc.method = 'ward.D2',\n",
    "                outline.color = '#FFFFFF',\n",
    "                # p.mat = expr.corr.p,\n",
    "                # insig = \"blank\",\n",
    "                # sig.level = 0.05,\n",
    "                type = \"full\",\n",
    "                lab = TRUE)\n",
    "\n",
    "print(p1)"
   ]
  },
  {
   "cell_type": "code",
   "execution_count": 6,
   "metadata": {},
   "outputs": [
    {
     "data": {
      "text/plain": [
       "R version 3.4.2 (2017-09-28)\n",
       "Platform: x86_64-w64-mingw32/x64 (64-bit)\n",
       "Running under: Windows 10 x64 (build 14393)\n",
       "\n",
       "Matrix products: default\n",
       "\n",
       "locale:\n",
       "[1] LC_COLLATE=English_United States.1252 \n",
       "[2] LC_CTYPE=English_United States.1252   \n",
       "[3] LC_MONETARY=English_United States.1252\n",
       "[4] LC_NUMERIC=C                          \n",
       "[5] LC_TIME=English_United States.1252    \n",
       "\n",
       "attached base packages:\n",
       "[1] stats     graphics  grDevices utils     datasets  methods   base     \n",
       "\n",
       "other attached packages:\n",
       "[1] ggcorrplot_0.1.1 reshape2_1.4.2   ggplot2_2.2.1   \n",
       "\n",
       "loaded via a namespace (and not attached):\n",
       " [1] Rcpp_0.12.13     magrittr_1.5     munsell_0.4.3    uuid_0.1-2      \n",
       " [5] colorspace_1.3-2 R6_2.2.2         rlang_0.1.4      stringr_1.2.0   \n",
       " [9] plyr_1.8.4       tools_3.4.2      grid_3.4.2       gtable_0.2.0    \n",
       "[13] lazyeval_0.2.1   digest_0.6.12    tibble_1.3.4     crayon_1.3.4    \n",
       "[17] IRdisplay_0.4.4  repr_0.12.0      IRkernel_0.8.9   evaluate_0.10.1 \n",
       "[21] pbdZMQ_0.2-6     stringi_1.1.5    compiler_3.4.2   scales_0.5.0    \n",
       "[25] jsonlite_1.5    "
      ]
     },
     "metadata": {},
     "output_type": "display_data"
    }
   ],
   "source": [
    "sessionInfo()"
   ]
  }
 ],
 "metadata": {
  "anaconda-cloud": {},
  "kernelspec": {
   "display_name": "R",
   "language": "R",
   "name": "ir"
  },
  "language_info": {
   "codemirror_mode": "r",
   "file_extension": ".r",
   "mimetype": "text/x-r-source",
   "name": "R",
   "pygments_lexer": "r",
   "version": "3.4.2"
  }
 },
 "nbformat": 4,
 "nbformat_minor": 1
}
