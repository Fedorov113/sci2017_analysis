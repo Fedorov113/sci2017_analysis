{
 "cells": [
  {
   "cell_type": "markdown",
   "metadata": {},
   "source": [
    "## 03 OTU ratio\n",
    "\n",
    "This notebook illustrates how the beneficial/non-beneficial bug ratio was calculated as shown in [Figure 2E](assets/Figure_2E.tif).\n",
    "***"
   ]
  },
  {
   "cell_type": "markdown",
   "metadata": {},
   "source": [
    "### 3.1 Clean environment. Load libraries."
   ]
  },
  {
   "cell_type": "code",
   "execution_count": 1,
   "metadata": {},
   "outputs": [],
   "source": [
    "rm(list = ls())\n",
    "\n",
    "##-- load libs\n",
    "suppressMessages(library(ggplot2))\n",
    "suppressMessages(library(reshape2))"
   ]
  },
  {
   "cell_type": "markdown",
   "metadata": {},
   "source": [
    "### 3.2 Import data files."
   ]
  },
  {
   "cell_type": "code",
   "execution_count": 2,
   "metadata": {},
   "outputs": [
    {
     "name": "stdout",
     "output_type": "stream",
     "text": [
      "[1] 63\n"
     ]
    }
   ],
   "source": [
    "##-- data files\n",
    "sample.file = '../data/human_16S.sampleinfo.csv'\n",
    "otu.file = '../data/human_16S.even13190.rel.sig.csv'\n",
    "stats.file = '../data/human_16S.even13190.stats.sig.csv'\n",
    "\n",
    "##-- import data \n",
    "sample = read.csv(sample.file, row.names = 1)\n",
    "otu = read.csv(otu.file, row.names = 1)\n",
    "stats = read.csv(stats.file, row.names = 1)\n",
    "\n",
    "print(nrow(stats))"
   ]
  },
  {
   "cell_type": "markdown",
   "metadata": {},
   "source": [
    "### 3.3 Select 16S bugs confirmed by shotgun sequencing (n=43). Split into bugs that are potentially beneficial (UP in R, n=28) and non-beneficial (UP in NR, n=15). "
   ]
  },
  {
   "cell_type": "code",
   "execution_count": 3,
   "metadata": {},
   "outputs": [
    {
     "name": "stdout",
     "output_type": "stream",
     "text": [
      "[1] 43 42\n",
      "[1] 28\n",
      "[1] 15\n"
     ]
    }
   ],
   "source": [
    "##-- filter for 43 bugs confirmed by shotgun\n",
    "stats = subset(stats, Confirmed.by.shotgun.sequencing=='Yes')\n",
    "row.names(otu) = gsub('[|]\\\\S*$','',row.names(otu))\n",
    "otu = otu[row.names(otu) %in% row.names(stats),]\n",
    "print(dim(otu)) ## 43 bugs, 42 samples\n",
    "\n",
    "##-- record good and bad bug lists\n",
    "good.bugs = row.names(subset(stats, Non.parametric.T.test.statistic<0))\n",
    "bad.bugs = row.names(subset(stats, Non.parametric.T.test.statistic>0))\n",
    "print(length(good.bugs)) ## 28\n",
    "print(length(bad.bugs)) ## 15"
   ]
  },
  {
   "cell_type": "markdown",
   "metadata": {},
   "source": [
    "### 3.4 Calculate beneficial to non-beneficial bug ratio, counting only the presence and absence of a bug in a sample."
   ]
  },
  {
   "cell_type": "code",
   "execution_count": 4,
   "metadata": {},
   "outputs": [
    {
     "name": "stdout",
     "output_type": "stream",
     "text": [
      "   Sample     Response                BORR RECIST. bug.ratio\n",
      "1     P01 NonResponder      Stable Disease     -11 1.2222222\n",
      "2     P02    Responder    Partial Response     -65 3.0000000\n",
      "3     P03 NonResponder Progressive Disease      38 0.5000000\n",
      "4     P04 NonResponder      Stable Disease      -7 0.8750000\n",
      "5     P05 NonResponder Progressive Disease      58 0.6666667\n",
      "6     P06 NonResponder      Stable Disease      27 0.3333333\n",
      "7     P07    Responder    Partial Response     -60 3.0000000\n",
      "8     P08 NonResponder Progressive Disease      65 1.1250000\n",
      "9     P09    Responder    Partial Response     -51 4.7500000\n",
      "10    P10 NonResponder Progressive Disease     357 0.1666667\n",
      "11    P11 NonResponder      Stable Disease     -28 0.3750000\n",
      "12    P12 NonResponder      Stable Disease      -9 1.2000000\n",
      "13    P13    Responder    Partial Response     -34 3.0000000\n",
      "14    P14 NonResponder      Stable Disease      29 1.1250000\n",
      "15    P15 NonResponder Progressive Disease      69 0.8571429\n",
      "16    P16    Responder    Partial Response     -74 3.0000000\n",
      "17    P17 NonResponder Progressive Disease      29 0.7000000\n",
      "18    P18 NonResponder      Stable Disease      19 1.2000000\n",
      "19    P19 NonResponder Progressive Disease      53 0.9000000\n",
      "20    P20    Responder    Partial Response     -84 5.6666667\n",
      "21    P21 NonResponder      Stable Disease     -18 0.7500000\n",
      "22    P22 NonResponder Progressive Disease      61 0.2727273\n",
      "23    P23    Responder   Complete Response    -100 4.6666667\n",
      "24    P24    Responder    Partial Response     -69 1.6666667\n",
      "25    P25 NonResponder      Stable Disease      16 1.0000000\n",
      "26    P26 NonResponder      Stable Disease       5 0.5000000\n",
      "27    P27    Responder   Complete Response    -100 5.0000000\n",
      "28    P28    Responder    Partial Response     -66 4.2500000\n",
      "29    P29    Responder    Partial Response     -69 2.3333333\n",
      "30    P30 NonResponder Progressive Disease     244 0.8750000\n",
      "31    P31 NonResponder Progressive Disease     331 1.0000000\n",
      "32    P32 NonResponder Progressive Disease      91 0.6000000\n",
      "33    P33    Responder    Partial Response     -35 2.2500000\n",
      "34    P34    Responder    Partial Response     -81 2.2500000\n",
      "35    P35 NonResponder      Stable Disease     -19 1.4285714\n",
      "36    P36    Responder    Partial Response     -62 2.8333333\n",
      "37    P37    Responder    Partial Response     -36 4.5000000\n",
      "38    P38 NonResponder Progressive Disease      59 0.3750000\n",
      "39    P39    Responder    Partial Response     -76 1.1666667\n",
      "40    P40 NonResponder      Stable Disease       2 0.9090909\n",
      "41    P41 NonResponder Progressive Disease     242 0.2727273\n",
      "42    P42 NonResponder Progressive Disease      45 0.5555556\n"
     ]
    }
   ],
   "source": [
    "otu.t = data.frame(t(otu), check.names=FALSE)\n",
    "\n",
    "bug.ratio = data.frame(bug.ratio = \n",
    "                         apply(otu.t[,good.bugs], 1, function(x) sum(x>0, na.rm=T)) / \n",
    "                         apply(otu.t[,bad.bugs], 1, function(x) sum(x>0, na.rm=T)))\n",
    "\n",
    "bug.ratio = merge(sample, bug.ratio, by = 'row.names')\n",
    "colnames(bug.ratio)[1] = 'Sample'\n",
    "\n",
    "print(bug.ratio)"
   ]
  },
  {
   "cell_type": "markdown",
   "metadata": {},
   "source": [
    "### 3.5 Draw ratio of beneficial to non-beneficial OTU numbers for each patient vs. the patient’s RECIST aggregate tumor measurement change in %."
   ]
  },
  {
   "cell_type": "code",
   "execution_count": 5,
   "metadata": {},
   "outputs": [
    {
     "data": {
      "image/png": "[encoded data removed]"
     },
     "metadata": {},
     "output_type": "display_data"
    }
   ],
   "source": [
    "##-- set up R plot display options in notebook\n",
    "options(jupyter.plot_mimetypes = \"image/png\")\n",
    "options(repr.plot.width = 6.5, repr.plot.height = 5)\n",
    "\n",
    "##-- draw scatter plot; set up color for NR and R groups\n",
    "data.plot = bug.ratio\n",
    "\n",
    "plot.colors = c('Responder' = '#CC0000', 'NonResponder' = '#0000CC')\n",
    "plot.title = 'Metastatic Melanoma 16S\\nRECIST% vs bug ratio'\n",
    "plot.shapes = c('Responder' = 19, 'NonResponder' = 1)\n",
    "plot.y.break = 1.0\n",
    "\n",
    "p1 = ggplot(data.plot, aes(bug.ratio, RECIST.)) +\n",
    "  geom_point(aes(color = Response), size = 3) +\n",
    "  scale_color_manual(values = plot.colors) +\n",
    "  ggtitle(plot.title) +\n",
    "  xlab('# of Beneficial to # of Non-beneficial OTUs') +\n",
    "  ylab('RECIST%') +\n",
    "  theme_bw() +\n",
    "  theme(panel.grid.major.x=element_blank(), panel.grid.major.y = element_blank(), \n",
    "        panel.grid.minor=element_blank())  +\n",
    "  theme(axis.text.y=element_text(size=12), axis.title=element_text(size=14),\n",
    "        plot.title=element_text(size=14,face='bold',hjust = 0.5), \n",
    "        axis.text.x=element_text(size=12), strip.text.x=element_text(size=12,face='bold'), \n",
    "        strip.background = element_rect(fill='#CCCCFF'))  +\n",
    "  geom_hline(yintercept = -30, linetype = 'dashed', color = '#000000',size = 0.5) +\n",
    "  geom_vline(xintercept = 1.5, \n",
    "             linetype = 'dashed', color = '#000000', size = 0.5)  +\n",
    "  scale_x_continuous(breaks=seq(round(min(data.plot$bug.ratio)),\n",
    "                                round(max(data.plot$bug.ratio))\n",
    "                                +0.3,\n",
    "                                1.0))\n",
    "\n",
    "print(p1)"
   ]
  },
  {
   "cell_type": "code",
   "execution_count": 6,
   "metadata": {},
   "outputs": [
    {
     "data": {
      "text/plain": [
       "R version 3.4.2 (2017-09-28)\n",
       "Platform: x86_64-w64-mingw32/x64 (64-bit)\n",
       "Running under: Windows 10 x64 (build 14393)\n",
       "\n",
       "Matrix products: default\n",
       "\n",
       "locale:\n",
       "[1] LC_COLLATE=English_United States.1252 \n",
       "[2] LC_CTYPE=English_United States.1252   \n",
       "[3] LC_MONETARY=English_United States.1252\n",
       "[4] LC_NUMERIC=C                          \n",
       "[5] LC_TIME=English_United States.1252    \n",
       "\n",
       "attached base packages:\n",
       "[1] stats     graphics  grDevices utils     datasets  methods   base     \n",
       "\n",
       "other attached packages:\n",
       "[1] reshape2_1.4.2 ggplot2_2.2.1 \n",
       "\n",
       "loaded via a namespace (and not attached):\n",
       " [1] Rcpp_0.12.13     magrittr_1.5     munsell_0.4.3    uuid_0.1-2      \n",
       " [5] colorspace_1.3-2 R6_2.2.2         rlang_0.1.4      stringr_1.2.0   \n",
       " [9] plyr_1.8.4       tools_3.4.2      grid_3.4.2       gtable_0.2.0    \n",
       "[13] lazyeval_0.2.1   digest_0.6.12    tibble_1.3.4     crayon_1.3.4    \n",
       "[17] IRdisplay_0.4.4  repr_0.12.0      IRkernel_0.8.9   evaluate_0.10.1 \n",
       "[21] labeling_0.3     pbdZMQ_0.2-6     stringi_1.1.5    compiler_3.4.2  \n",
       "[25] scales_0.5.0     jsonlite_1.5    "
      ]
     },
     "metadata": {},
     "output_type": "display_data"
    }
   ],
   "source": [
    "sessionInfo()"
   ]
  }
 ],
 "metadata": {
  "anaconda-cloud": {},
  "kernelspec": {
   "display_name": "R",
   "language": "R",
   "name": "ir"
  },
  "language_info": {
   "codemirror_mode": "r",
   "file_extension": ".r",
   "mimetype": "text/x-r-source",
   "name": "R",
   "pygments_lexer": "r",
   "version": "3.4.2"
  }
 },
 "nbformat": 4,
 "nbformat_minor": 1
}
