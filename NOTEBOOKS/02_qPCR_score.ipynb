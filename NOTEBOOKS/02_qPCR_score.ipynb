{
 "cells": [
  {
   "cell_type": "markdown",
   "metadata": {},
   "source": [
    "## 02 qPCR score\n",
    "\n",
    "This notebook illustrates how the qPCR score was calculated and statistical test shown in [Figure 2D](assets/Figure_2D.tif)\n",
    "***"
   ]
  },
  {
   "cell_type": "markdown",
   "metadata": {},
   "source": [
    "### 2.1 Clean environment. Load libraries."
   ]
  },
  {
   "cell_type": "code",
   "execution_count": 8,
   "metadata": {},
   "outputs": [],
   "source": [
    "rm(list = ls())\n",
    "\n",
    "##-- load libs\n",
    "suppressMessages(library(ggplot2))\n",
    "suppressMessages(library(reshape2))\n",
    "suppressMessages(library(broom))"
   ]
  },
  {
   "cell_type": "markdown",
   "metadata": {},
   "source": [
    "### 2.2 Import data files."
   ]
  },
  {
   "cell_type": "code",
   "execution_count": 9,
   "metadata": {},
   "outputs": [
    {
     "name": "stdout",
     "output_type": "stream",
     "text": [
      "[1] 41 11\n"
     ]
    }
   ],
   "source": [
    "##-- global variables\n",
    "##-- bugs UP in R\n",
    "bug.up = c('Veillonella_parvula','Enterococcus_faecium','Collinsella_aerofaciens',\n",
    "           'Bifidobacterium_adolescentis','Bifidobacterium_longum',\n",
    "           'Klebsiella_pneumoniae','Parabacteroides_merdae','Lactobacillus')\n",
    "##-- bugs DOWN in R (UP in NR)\n",
    "bug.down = c('Roseburia_intestinalis','Ruminococcus_obeum')\n",
    "bug.in = c(bug.up, bug.down)\n",
    "\n",
    "##-- data files \n",
    "sample.file = '../data/human_16S.sampleinfo.csv'\n",
    "qpcr.file = '../data/human_16S_qPCR.csv'\n",
    "\n",
    "##-- import data \n",
    "sample = read.csv(sample.file, row.names = 1)\n",
    "qpcr = read.csv(qpcr.file, row.names = 1, na.strings = c('ND','NA',''))\n",
    "\n",
    "print(dim(qpcr))"
   ]
  },
  {
   "cell_type": "markdown",
   "metadata": {},
   "source": [
    "### 2.3 Preprocess data. 41 samples carry non-zero abundance for the 10 selected bugs. 40 samples were used for score calculation after removing one sample with ND (not determined) value in at least 1 bug (P30)."
   ]
  },
  {
   "cell_type": "code",
   "execution_count": 10,
   "metadata": {},
   "outputs": [
    {
     "name": "stdout",
     "output_type": "stream",
     "text": [
      "[1] \"P30\"\n",
      "[1] 40 11\n"
     ]
    }
   ],
   "source": [
    "##-- remove samples with NA or ND value in at least 1 bug\n",
    "patient.ex = row.names(qpcr)[which(rowSums(is.na(qpcr))>0)]\n",
    "print(patient.ex) ## P30\n",
    "\n",
    "qpcr = qpcr[!row.names(qpcr) %in% patient.ex,]\n",
    "print(dim(qpcr))"
   ]
  },
  {
   "cell_type": "markdown",
   "metadata": {},
   "source": [
    "### 2.4 Calculate qPCR score using 8 beneficial (UP in R) and 2 non-beneficial bugs (UP in NR)."
   ]
  },
  {
   "cell_type": "code",
   "execution_count": 11,
   "metadata": {},
   "outputs": [
    {
     "name": "stdout",
     "output_type": "stream",
     "text": [
      "        Response       score\n",
      "P01 NonResponder  2.52021835\n",
      "P02    Responder  2.74397947\n",
      "P03 NonResponder  2.21640596\n",
      "P04 NonResponder  3.19969310\n",
      "P05 NonResponder  2.60551880\n",
      "P06 NonResponder  0.75987058\n",
      "P07    Responder  1.95079163\n",
      "P08 NonResponder  2.22699233\n",
      "P09    Responder  7.92127291\n",
      "P10 NonResponder -0.19260742\n",
      "P11 NonResponder -0.86811181\n",
      "P12 NonResponder  2.46366765\n",
      "P14 NonResponder  1.88640107\n",
      "P15 NonResponder  1.98539261\n",
      "P16    Responder 13.96492955\n",
      "P17 NonResponder  1.54914640\n",
      "P18 NonResponder  0.79400653\n",
      "P19 NonResponder  3.98170984\n",
      "P20    Responder 13.00285303\n",
      "P21 NonResponder  2.83408295\n",
      "P22 NonResponder -0.00519403\n",
      "P23    Responder  5.18711138\n",
      "P24    Responder  3.57168328\n",
      "P25 NonResponder  2.66638676\n",
      "P26 NonResponder  5.78916759\n",
      "P27    Responder  5.63402877\n",
      "P28    Responder  8.89318905\n",
      "P29    Responder  2.10832643\n",
      "P31 NonResponder  1.09514549\n",
      "P32 NonResponder  1.70492060\n",
      "P33    Responder  0.97701144\n",
      "P34    Responder  6.16905113\n",
      "P35 NonResponder  2.29062055\n",
      "P36    Responder  4.74687252\n",
      "P37    Responder  3.08920019\n",
      "P38 NonResponder  1.12179566\n",
      "P39    Responder  0.48186069\n",
      "P40 NonResponder  4.87156255\n",
      "P41 NonResponder  2.16320832\n",
      "P42 NonResponder  2.63587984\n"
     ]
    }
   ],
   "source": [
    "##-- convert to log scale\n",
    "qpcr.norm = qpcr[,-1]\n",
    "qpcr.norm = log10(qpcr.norm + 1)\n",
    "\n",
    "##-- scale on bug column, do not center\n",
    "qpcr.norm = scale(qpcr.norm, center = F, scale = T)\n",
    "\n",
    "##-- for bugs UP in NR, flip the values!\n",
    "qpcr.norm[,bug.down] = -1 * qpcr.norm[,bug.down]\n",
    "\n",
    "##-- calculate qPCR score\n",
    "qpcr.norm.score = merge(qpcr[,'Response',drop=F],\n",
    "                             data.frame(score = apply(qpcr.norm, 1, sum)),\n",
    "                             by = 'row.names')\n",
    "\n",
    "row.names(qpcr.norm.score) = qpcr.norm.score[,1]\n",
    "qpcr.norm.score = qpcr.norm.score[,-1]\n",
    "\n",
    "print(qpcr.norm.score)"
   ]
  },
  {
   "cell_type": "markdown",
   "metadata": {},
   "source": [
    "### 2.5 Draw the qPCR score boxplot for NR and R patients.\n",
    "Note that the position of each dot may look slightly different (on the x-axis) from Figure 2D because of the `jitter`  function, which utilizes random seeds to deviate the dots horizontally by a small distance for plotting purposes."
   ]
  },
  {
   "cell_type": "code",
   "execution_count": 12,
   "metadata": {},
   "outputs": [
    {
     "data": {
      "image/png": "[encoded data removed]"
     },
     "metadata": {},
     "output_type": "display_data"
    }
   ],
   "source": [
    "##-- set up R plot display options in notebook\n",
    "options(jupyter.plot_mimetypes = \"image/png\")\n",
    "options(repr.plot.width = 5, repr.plot.height = 5)\n",
    "\n",
    "##-- draw boxplots; set up color for NR and R groups\n",
    "data.plot =qpcr.norm.score\n",
    "data.plot$Response = factor(data.plot$Response, levels = c('Responder',\n",
    "                                                           'NonResponder'))\n",
    "\n",
    "plot.colors = c('Responder' = '#CC0000', 'NonResponder' = '#0000CC')\n",
    "plot.title = 'Metastatic Melanoma 16S qPCR score'\n",
    "plot.shapes = c('Responder' = 19, 'NonResponder' = 1)\n",
    "plot.y.break = 1.0\n",
    "\n",
    "p1 = ggplot(data.plot, aes(Response, score)) +\n",
    "  geom_boxplot(color = '#C0C0C0', outlier.shape = NA, width = 0.6,\n",
    "               lwd=2.5, fatten = 1.5) +\n",
    "  geom_jitter(aes(color = Response), width = 0.1, height = 0, size = 4.5)+\n",
    "  scale_color_manual(values = plot.colors) + \n",
    "  theme_bw() +\n",
    "  ggtitle(plot.title) + \n",
    "  xlab('Patient group') + \n",
    "  ylab('qPCR score') + \n",
    "  theme_bw() + \n",
    "  theme(panel.grid.major.x=element_blank(), panel.grid.major.y = element_blank(), \n",
    "        panel.grid.minor=element_blank())  +\n",
    "  theme(axis.text.y=element_text(size=12), axis.title=element_text(size=14),\n",
    "        plot.title=element_text(size=16,face='bold', hjust = 0.5), \n",
    "        axis.text.x=element_text(size=12), strip.text.x=element_text(size=12,face='bold'), \n",
    "        strip.background = element_rect(fill='#CCCCFF'))  +\n",
    "  theme(legend.position = 'none') +\n",
    "  scale_y_continuous(breaks=seq(round(min(data.plot$score)),\n",
    "                                round(max(data.plot$score)),\n",
    "                                plot.y.break))\n",
    "\n",
    "print(p1)"
   ]
  },
  {
   "cell_type": "markdown",
   "metadata": {},
   "source": [
    "### 2.6 Compute statistical significance of qPCR score difference between R and NR groups using Mann-Whitney-Wilcoxon Test (non-parametric)."
   ]
  },
  {
   "cell_type": "code",
   "execution_count": 13,
   "metadata": {},
   "outputs": [
    {
     "name": "stdout",
     "output_type": "stream",
     "text": [
      "  statistic     p.value                 method alternative\n",
      "1       288 0.004275997 Wilcoxon rank sum test   two.sided\n"
     ]
    }
   ],
   "source": [
    "##-- statistical tests\n",
    "x = with(qpcr.norm.score, score[Response=='Responder'])\n",
    "y = with(qpcr.norm.score, score[Response=='NonResponder'])\n",
    "\n",
    "print(tidy(wilcox.test(x,y)))"
   ]
  },
  {
   "cell_type": "code",
   "execution_count": 14,
   "metadata": {},
   "outputs": [
    {
     "data": {
      "text/plain": [
       "R version 3.4.2 (2017-09-28)\n",
       "Platform: x86_64-w64-mingw32/x64 (64-bit)\n",
       "Running under: Windows 10 x64 (build 14393)\n",
       "\n",
       "Matrix products: default\n",
       "\n",
       "locale:\n",
       "[1] LC_COLLATE=English_United States.1252 \n",
       "[2] LC_CTYPE=English_United States.1252   \n",
       "[3] LC_MONETARY=English_United States.1252\n",
       "[4] LC_NUMERIC=C                          \n",
       "[5] LC_TIME=English_United States.1252    \n",
       "\n",
       "attached base packages:\n",
       "[1] stats     graphics  grDevices utils     datasets  methods   base     \n",
       "\n",
       "other attached packages:\n",
       "[1] broom_0.4.2    reshape2_1.4.2 ggplot2_2.2.1 \n",
       "\n",
       "loaded via a namespace (and not attached):\n",
       " [1] Rcpp_0.12.13     compiler_3.4.2   plyr_1.8.4       bindr_0.1       \n",
       " [5] tools_3.4.2      digest_0.6.12    uuid_0.1-2       jsonlite_1.5    \n",
       " [9] evaluate_0.10.1  tibble_1.3.4     gtable_0.2.0     nlme_3.1-131    \n",
       "[13] lattice_0.20-35  pkgconfig_2.0.1  rlang_0.1.4      psych_1.7.8     \n",
       "[17] IRdisplay_0.4.4  IRkernel_0.8.9   parallel_3.4.2   bindrcpp_0.2    \n",
       "[21] repr_0.12.0      stringr_1.2.0    dplyr_0.7.4      grid_3.4.2      \n",
       "[25] glue_1.2.0       R6_2.2.2         foreign_0.8-69   pbdZMQ_0.2-6    \n",
       "[29] purrr_0.2.4      tidyr_0.7.2      magrittr_1.5     scales_0.5.0    \n",
       "[33] assertthat_0.2.0 mnormt_1.5-5     colorspace_1.3-2 stringi_1.1.5   \n",
       "[37] lazyeval_0.2.1   munsell_0.4.3    crayon_1.3.4    "
      ]
     },
     "metadata": {},
     "output_type": "display_data"
    }
   ],
   "source": [
    "sessionInfo()"
   ]
  }
 ],
 "metadata": {
  "anaconda-cloud": {},
  "kernelspec": {
   "display_name": "R",
   "language": "R",
   "name": "ir"
  },
  "language_info": {
   "codemirror_mode": "r",
   "file_extension": ".r",
   "mimetype": "text/x-r-source",
   "name": "R",
   "pygments_lexer": "r",
   "version": "3.4.2"
  }
 },
 "nbformat": 4,
 "nbformat_minor": 1
}
