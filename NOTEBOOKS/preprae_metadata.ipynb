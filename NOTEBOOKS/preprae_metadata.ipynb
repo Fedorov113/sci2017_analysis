{
 "cells": [
  {
   "cell_type": "code",
   "execution_count": 1,
   "metadata": {},
   "outputs": [],
   "source": [
    "import assnake\n",
    "import pandas as pd\n",
    "import numpy as np\n",
    "import seaborn as sns\n",
    "\n",
    "from assnake_core_taxonomy.metaphlan2.loaders import filter_metaphlan2\n",
    "\n",
    "pd.set_option('display.max_rows', 500)\n",
    "pd.set_option('display.max_columns', 500)\n",
    "pd.set_option('display.width', 1000)"
   ]
  },
  {
   "cell_type": "code",
   "execution_count": 4,
   "metadata": {},
   "outputs": [
    {
     "data": {
      "application/vnd.plotly.v1+json": {
       "config": {
        "linkText": "Export to plot.ly",
        "plotlyServerURL": "https://plot.ly",
        "showLink": false
       },
       "data": [
        {
         "name": "sra__dada2fat_MatsonH",
         "type": "bar",
         "x": [
          "SRR6000882_",
          "SRR6000879_",
          "SRR6000916_",
          "SRR6000888_",
          "SRR6000914_",
          "SRR6000885_",
          "SRR6000886_",
          "SRR6000925_",
          "SRR6000875_",
          "SRR6000883_",
          "SRR6000897_",
          "SRR6000889_",
          "SRR6000922_",
          "SRR6000924_",
          "SRR6000904_",
          "SRR6000938_",
          "SRR6000884_",
          "SRR6000881_",
          "SRR6000876_",
          "SRR6000934_",
          "SRR6000928_",
          "SRR6000930_",
          "SRR6000918_",
          "SRR6000919_",
          "SRR6000913_",
          "SRR6000926_",
          "SRR6000872_",
          "SRR6000941_",
          "SRR6000929_",
          "SRR6000937_",
          "SRR6000880_",
          "SRR6000948_",
          "SRR6000939_",
          "SRR6000933_",
          "SRR6000915_",
          "SRR6000887_",
          "SRR6000917_",
          "SRR6000936_",
          "SRR6000927_",
          "SRR6000923_",
          "SRR6000898_",
          "SRR6000935_"
         ],
         "y": [
          32518,
          30452,
          29068,
          29148,
          29061,
          28725,
          28287,
          28208,
          27774,
          27602,
          26941,
          26881,
          26623,
          26818,
          26545,
          26322,
          26154,
          26276,
          25953,
          25908,
          24964,
          24685,
          24482,
          23400,
          23552,
          23482,
          22828,
          22262,
          22381,
          21984,
          21942,
          21154,
          20974,
          20371,
          20453,
          19673,
          19696,
          18542,
          17190,
          14603,
          13602,
          13239
         ]
        },
        {
         "name": "diff_sra--sra__dada2fat_MatsonH",
         "type": "bar",
         "x": [
          "SRR6000882_",
          "SRR6000879_",
          "SRR6000916_",
          "SRR6000888_",
          "SRR6000914_",
          "SRR6000885_",
          "SRR6000886_",
          "SRR6000925_",
          "SRR6000875_",
          "SRR6000883_",
          "SRR6000897_",
          "SRR6000889_",
          "SRR6000922_",
          "SRR6000924_",
          "SRR6000904_",
          "SRR6000938_",
          "SRR6000884_",
          "SRR6000881_",
          "SRR6000876_",
          "SRR6000934_",
          "SRR6000928_",
          "SRR6000930_",
          "SRR6000918_",
          "SRR6000919_",
          "SRR6000913_",
          "SRR6000926_",
          "SRR6000872_",
          "SRR6000941_",
          "SRR6000929_",
          "SRR6000937_",
          "SRR6000880_",
          "SRR6000948_",
          "SRR6000939_",
          "SRR6000933_",
          "SRR6000915_",
          "SRR6000887_",
          "SRR6000917_",
          "SRR6000936_",
          "SRR6000927_",
          "SRR6000923_",
          "SRR6000898_",
          "SRR6000935_"
         ],
         "y": [
          1946,
          1746,
          2360,
          1586,
          1638,
          1699,
          1958,
          1870,
          1515,
          1638,
          1903,
          1752,
          1957,
          1502,
          1594,
          1594,
          1727,
          1526,
          1579,
          1490,
          1697,
          1274,
          1356,
          1860,
          1373,
          1230,
          1246,
          1441,
          1238,
          1284,
          950,
          1194,
          1197,
          1713,
          974,
          1418,
          1029,
          909,
          796,
          790,
          564,
          781
         ]
        }
       ],
       "layout": {
        "autosize": true,
        "barmode": "stack",
        "margin": {
         "b": 100
        },
        "template": {
         "data": {
          "bar": [
           {
            "error_x": {
             "color": "#2a3f5f"
            },
            "error_y": {
             "color": "#2a3f5f"
            },
            "marker": {
             "line": {
              "color": "#E5ECF6",
              "width": 0.5
             }
            },
            "type": "bar"
           }
          ],
          "barpolar": [
           {
            "marker": {
             "line": {
              "color": "#E5ECF6",
              "width": 0.5
             }
            },
            "type": "barpolar"
           }
          ],
          "carpet": [
           {
            "aaxis": {
             "endlinecolor": "#2a3f5f",
             "gridcolor": "white",
             "linecolor": "white",
             "minorgridcolor": "white",
             "startlinecolor": "#2a3f5f"
            },
            "baxis": {
             "endlinecolor": "#2a3f5f",
             "gridcolor": "white",
             "linecolor": "white",
             "minorgridcolor": "white",
             "startlinecolor": "#2a3f5f"
            },
            "type": "carpet"
           }
          ],
          "choropleth": [
           {
            "colorbar": {
             "outlinewidth": 0,
             "ticks": ""
            },
            "type": "choropleth"
           }
          ],
          "contour": [
           {
            "colorbar": {
             "outlinewidth": 0,
             "ticks": ""
            },
            "colorscale": [
             [
              0,
              "#0d0887"
             ],
             [
              0.1111111111111111,
              "#46039f"
             ],
             [
              0.2222222222222222,
              "#7201a8"
             ],
             [
              0.3333333333333333,
              "#9c179e"
             ],
             [
              0.4444444444444444,
              "#bd3786"
             ],
             [
              0.5555555555555556,
              "#d8576b"
             ],
             [
              0.6666666666666666,
              "#ed7953"
             ],
             [
              0.7777777777777778,
              "#fb9f3a"
             ],
             [
              0.8888888888888888,
              "#fdca26"
             ],
             [
              1,
              "#f0f921"
             ]
            ],
            "type": "contour"
           }
          ],
          "contourcarpet": [
           {
            "colorbar": {
             "outlinewidth": 0,
             "ticks": ""
            },
            "type": "contourcarpet"
           }
          ],
          "heatmap": [
           {
            "colorbar": {
             "outlinewidth": 0,
             "ticks": ""
            },
            "colorscale": [
             [
              0,
              "#0d0887"
             ],
             [
              0.1111111111111111,
              "#46039f"
             ],
             [
              0.2222222222222222,
              "#7201a8"
             ],
             [
              0.3333333333333333,
              "#9c179e"
             ],
             [
              0.4444444444444444,
              "#bd3786"
             ],
             [
              0.5555555555555556,
              "#d8576b"
             ],
             [
              0.6666666666666666,
              "#ed7953"
             ],
             [
              0.7777777777777778,
              "#fb9f3a"
             ],
             [
              0.8888888888888888,
              "#fdca26"
             ],
             [
              1,
              "#f0f921"
             ]
            ],
            "type": "heatmap"
           }
          ],
          "heatmapgl": [
           {
            "colorbar": {
             "outlinewidth": 0,
             "ticks": ""
            },
            "colorscale": [
             [
              0,
              "#0d0887"
             ],
             [
              0.1111111111111111,
              "#46039f"
             ],
             [
              0.2222222222222222,
              "#7201a8"
             ],
             [
              0.3333333333333333,
              "#9c179e"
             ],
             [
              0.4444444444444444,
              "#bd3786"
             ],
             [
              0.5555555555555556,
              "#d8576b"
             ],
             [
              0.6666666666666666,
              "#ed7953"
             ],
             [
              0.7777777777777778,
              "#fb9f3a"
             ],
             [
              0.8888888888888888,
              "#fdca26"
             ],
             [
              1,
              "#f0f921"
             ]
            ],
            "type": "heatmapgl"
           }
          ],
          "histogram": [
           {
            "marker": {
             "colorbar": {
              "outlinewidth": 0,
              "ticks": ""
             }
            },
            "type": "histogram"
           }
          ],
          "histogram2d": [
           {
            "colorbar": {
             "outlinewidth": 0,
             "ticks": ""
            },
            "colorscale": [
             [
              0,
              "#0d0887"
             ],
             [
              0.1111111111111111,
              "#46039f"
             ],
             [
              0.2222222222222222,
              "#7201a8"
             ],
             [
              0.3333333333333333,
              "#9c179e"
             ],
             [
              0.4444444444444444,
              "#bd3786"
             ],
             [
              0.5555555555555556,
              "#d8576b"
             ],
             [
              0.6666666666666666,
              "#ed7953"
             ],
             [
              0.7777777777777778,
              "#fb9f3a"
             ],
             [
              0.8888888888888888,
              "#fdca26"
             ],
             [
              1,
              "#f0f921"
             ]
            ],
            "type": "histogram2d"
           }
          ],
          "histogram2dcontour": [
           {
            "colorbar": {
             "outlinewidth": 0,
             "ticks": ""
            },
            "colorscale": [
             [
              0,
              "#0d0887"
             ],
             [
              0.1111111111111111,
              "#46039f"
             ],
             [
              0.2222222222222222,
              "#7201a8"
             ],
             [
              0.3333333333333333,
              "#9c179e"
             ],
             [
              0.4444444444444444,
              "#bd3786"
             ],
             [
              0.5555555555555556,
              "#d8576b"
             ],
             [
              0.6666666666666666,
              "#ed7953"
             ],
             [
              0.7777777777777778,
              "#fb9f3a"
             ],
             [
              0.8888888888888888,
              "#fdca26"
             ],
             [
              1,
              "#f0f921"
             ]
            ],
            "type": "histogram2dcontour"
           }
          ],
          "mesh3d": [
           {
            "colorbar": {
             "outlinewidth": 0,
             "ticks": ""
            },
            "type": "mesh3d"
           }
          ],
          "parcoords": [
           {
            "line": {
             "colorbar": {
              "outlinewidth": 0,
              "ticks": ""
             }
            },
            "type": "parcoords"
           }
          ],
          "pie": [
           {
            "automargin": true,
            "type": "pie"
           }
          ],
          "scatter": [
           {
            "marker": {
             "colorbar": {
              "outlinewidth": 0,
              "ticks": ""
             }
            },
            "type": "scatter"
           }
          ],
          "scatter3d": [
           {
            "line": {
             "colorbar": {
              "outlinewidth": 0,
              "ticks": ""
             }
            },
            "marker": {
             "colorbar": {
              "outlinewidth": 0,
              "ticks": ""
             }
            },
            "type": "scatter3d"
           }
          ],
          "scattercarpet": [
           {
            "marker": {
             "colorbar": {
              "outlinewidth": 0,
              "ticks": ""
             }
            },
            "type": "scattercarpet"
           }
          ],
          "scattergeo": [
           {
            "marker": {
             "colorbar": {
              "outlinewidth": 0,
              "ticks": ""
             }
            },
            "type": "scattergeo"
           }
          ],
          "scattergl": [
           {
            "marker": {
             "colorbar": {
              "outlinewidth": 0,
              "ticks": ""
             }
            },
            "type": "scattergl"
           }
          ],
          "scattermapbox": [
           {
            "marker": {
             "colorbar": {
              "outlinewidth": 0,
              "ticks": ""
             }
            },
            "type": "scattermapbox"
           }
          ],
          "scatterpolar": [
           {
            "marker": {
             "colorbar": {
              "outlinewidth": 0,
              "ticks": ""
             }
            },
            "type": "scatterpolar"
           }
          ],
          "scatterpolargl": [
           {
            "marker": {
             "colorbar": {
              "outlinewidth": 0,
              "ticks": ""
             }
            },
            "type": "scatterpolargl"
           }
          ],
          "scatterternary": [
           {
            "marker": {
             "colorbar": {
              "outlinewidth": 0,
              "ticks": ""
             }
            },
            "type": "scatterternary"
           }
          ],
          "surface": [
           {
            "colorbar": {
             "outlinewidth": 0,
             "ticks": ""
            },
            "colorscale": [
             [
              0,
              "#0d0887"
             ],
             [
              0.1111111111111111,
              "#46039f"
             ],
             [
              0.2222222222222222,
              "#7201a8"
             ],
             [
              0.3333333333333333,
              "#9c179e"
             ],
             [
              0.4444444444444444,
              "#bd3786"
             ],
             [
              0.5555555555555556,
              "#d8576b"
             ],
             [
              0.6666666666666666,
              "#ed7953"
             ],
             [
              0.7777777777777778,
              "#fb9f3a"
             ],
             [
              0.8888888888888888,
              "#fdca26"
             ],
             [
              1,
              "#f0f921"
             ]
            ],
            "type": "surface"
           }
          ],
          "table": [
           {
            "cells": {
             "fill": {
              "color": "#EBF0F8"
             },
             "line": {
              "color": "white"
             }
            },
            "header": {
             "fill": {
              "color": "#C8D4E3"
             },
             "line": {
              "color": "white"
             }
            },
            "type": "table"
           }
          ]
         },
         "layout": {
          "annotationdefaults": {
           "arrowcolor": "#2a3f5f",
           "arrowhead": 0,
           "arrowwidth": 1
          },
          "coloraxis": {
           "colorbar": {
            "outlinewidth": 0,
            "ticks": ""
           }
          },
          "colorscale": {
           "diverging": [
            [
             0,
             "#8e0152"
            ],
            [
             0.1,
             "#c51b7d"
            ],
            [
             0.2,
             "#de77ae"
            ],
            [
             0.3,
             "#f1b6da"
            ],
            [
             0.4,
             "#fde0ef"
            ],
            [
             0.5,
             "#f7f7f7"
            ],
            [
             0.6,
             "#e6f5d0"
            ],
            [
             0.7,
             "#b8e186"
            ],
            [
             0.8,
             "#7fbc41"
            ],
            [
             0.9,
             "#4d9221"
            ],
            [
             1,
             "#276419"
            ]
           ],
           "sequential": [
            [
             0,
             "#0d0887"
            ],
            [
             0.1111111111111111,
             "#46039f"
            ],
            [
             0.2222222222222222,
             "#7201a8"
            ],
            [
             0.3333333333333333,
             "#9c179e"
            ],
            [
             0.4444444444444444,
             "#bd3786"
            ],
            [
             0.5555555555555556,
             "#d8576b"
            ],
            [
             0.6666666666666666,
             "#ed7953"
            ],
            [
             0.7777777777777778,
             "#fb9f3a"
            ],
            [
             0.8888888888888888,
             "#fdca26"
            ],
            [
             1,
             "#f0f921"
            ]
           ],
           "sequentialminus": [
            [
             0,
             "#0d0887"
            ],
            [
             0.1111111111111111,
             "#46039f"
            ],
            [
             0.2222222222222222,
             "#7201a8"
            ],
            [
             0.3333333333333333,
             "#9c179e"
            ],
            [
             0.4444444444444444,
             "#bd3786"
            ],
            [
             0.5555555555555556,
             "#d8576b"
            ],
            [
             0.6666666666666666,
             "#ed7953"
            ],
            [
             0.7777777777777778,
             "#fb9f3a"
            ],
            [
             0.8888888888888888,
             "#fdca26"
            ],
            [
             1,
             "#f0f921"
            ]
           ]
          },
          "colorway": [
           "#636efa",
           "#EF553B",
           "#00cc96",
           "#ab63fa",
           "#FFA15A",
           "#19d3f3",
           "#FF6692",
           "#B6E880",
           "#FF97FF",
           "#FECB52"
          ],
          "font": {
           "color": "#2a3f5f"
          },
          "geo": {
           "bgcolor": "white",
           "lakecolor": "white",
           "landcolor": "#E5ECF6",
           "showlakes": true,
           "showland": true,
           "subunitcolor": "white"
          },
          "hoverlabel": {
           "align": "left"
          },
          "hovermode": "closest",
          "mapbox": {
           "style": "light"
          },
          "paper_bgcolor": "white",
          "plot_bgcolor": "#E5ECF6",
          "polar": {
           "angularaxis": {
            "gridcolor": "white",
            "linecolor": "white",
            "ticks": ""
           },
           "bgcolor": "#E5ECF6",
           "radialaxis": {
            "gridcolor": "white",
            "linecolor": "white",
            "ticks": ""
           }
          },
          "scene": {
           "xaxis": {
            "backgroundcolor": "#E5ECF6",
            "gridcolor": "white",
            "gridwidth": 2,
            "linecolor": "white",
            "showbackground": true,
            "ticks": "",
            "zerolinecolor": "white"
           },
           "yaxis": {
            "backgroundcolor": "#E5ECF6",
            "gridcolor": "white",
            "gridwidth": 2,
            "linecolor": "white",
            "showbackground": true,
            "ticks": "",
            "zerolinecolor": "white"
           },
           "zaxis": {
            "backgroundcolor": "#E5ECF6",
            "gridcolor": "white",
            "gridwidth": 2,
            "linecolor": "white",
            "showbackground": true,
            "ticks": "",
            "zerolinecolor": "white"
           }
          },
          "shapedefaults": {
           "line": {
            "color": "#2a3f5f"
           }
          },
          "ternary": {
           "aaxis": {
            "gridcolor": "white",
            "linecolor": "white",
            "ticks": ""
           },
           "baxis": {
            "gridcolor": "white",
            "linecolor": "white",
            "ticks": ""
           },
           "bgcolor": "#E5ECF6",
           "caxis": {
            "gridcolor": "white",
            "linecolor": "white",
            "ticks": ""
           }
          },
          "title": {
           "x": 0.05
          },
          "xaxis": {
           "automargin": true,
           "gridcolor": "white",
           "linecolor": "white",
           "ticks": "",
           "title": {
            "standoff": 15
           },
           "zerolinecolor": "white",
           "zerolinewidth": 2
          },
          "yaxis": {
           "automargin": true,
           "gridcolor": "white",
           "linecolor": "white",
           "ticks": "",
           "title": {
            "standoff": 15
           },
           "zerolinecolor": "white",
           "zerolinewidth": 2
          }
         }
        },
        "title": {
         "text": "Reads number"
        },
        "xaxis": {
         "autorange": true,
         "range": [
          -0.5,
          41.5
         ],
         "type": "category"
        },
        "yaxis": {
         "autorange": true,
         "range": [
          0,
          36277.89473684211
         ],
         "type": "linear"
        }
       }
      },
      "image/png": "[encoded data removed]",
      "text/html": [
       "<div>\n",
       "        \n",
       "        \n",
       "            <div id=\"f049631e-1811-4326-8d03-fe143fc5813d\" class=\"plotly-graph-div\" style=\"height:525px; width:1800px;\"></div>\n",
       "            <script type=\"text/javascript\">\n",
       "                require([\"plotly\"], function(Plotly) {\n",
       "                    window.PLOTLYENV=window.PLOTLYENV || {};\n",
       "                    \n",
       "                if (document.getElementById(\"f049631e-1811-4326-8d03-fe143fc5813d\")) {\n",
       "                    Plotly.newPlot(\n",
       "                        'f049631e-1811-4326-8d03-fe143fc5813d',\n",
       "                        [{\"name\": \"sra__dada2fat_MatsonH\", \"type\": \"bar\", \"x\": [\"SRR6000882_\", \"SRR6000879_\", \"SRR6000916_\", \"SRR6000888_\", \"SRR6000914_\", \"SRR6000885_\", \"SRR6000886_\", \"SRR6000925_\", \"SRR6000875_\", \"SRR6000883_\", \"SRR6000897_\", \"SRR6000889_\", \"SRR6000922_\", \"SRR6000924_\", \"SRR6000904_\", \"SRR6000938_\", \"SRR6000884_\", \"SRR6000881_\", \"SRR6000876_\", \"SRR6000934_\", \"SRR6000928_\", \"SRR6000930_\", \"SRR6000918_\", \"SRR6000919_\", \"SRR6000913_\", \"SRR6000926_\", \"SRR6000872_\", \"SRR6000941_\", \"SRR6000929_\", \"SRR6000937_\", \"SRR6000880_\", \"SRR6000948_\", \"SRR6000939_\", \"SRR6000933_\", \"SRR6000915_\", \"SRR6000887_\", \"SRR6000917_\", \"SRR6000936_\", \"SRR6000927_\", \"SRR6000923_\", \"SRR6000898_\", \"SRR6000935_\"], \"y\": [32518, 30452, 29068, 29148, 29061, 28725, 28287, 28208, 27774, 27602, 26941, 26881, 26623, 26818, 26545, 26322, 26154, 26276, 25953, 25908, 24964, 24685, 24482, 23400, 23552, 23482, 22828, 22262, 22381, 21984, 21942, 21154, 20974, 20371, 20453, 19673, 19696, 18542, 17190, 14603, 13602, 13239]}, {\"name\": \"diff_sra--sra__dada2fat_MatsonH\", \"type\": \"bar\", \"x\": [\"SRR6000882_\", \"SRR6000879_\", \"SRR6000916_\", \"SRR6000888_\", \"SRR6000914_\", \"SRR6000885_\", \"SRR6000886_\", \"SRR6000925_\", \"SRR6000875_\", \"SRR6000883_\", \"SRR6000897_\", \"SRR6000889_\", \"SRR6000922_\", \"SRR6000924_\", \"SRR6000904_\", \"SRR6000938_\", \"SRR6000884_\", \"SRR6000881_\", \"SRR6000876_\", \"SRR6000934_\", \"SRR6000928_\", \"SRR6000930_\", \"SRR6000918_\", \"SRR6000919_\", \"SRR6000913_\", \"SRR6000926_\", \"SRR6000872_\", \"SRR6000941_\", \"SRR6000929_\", \"SRR6000937_\", \"SRR6000880_\", \"SRR6000948_\", \"SRR6000939_\", \"SRR6000933_\", \"SRR6000915_\", \"SRR6000887_\", \"SRR6000917_\", \"SRR6000936_\", \"SRR6000927_\", \"SRR6000923_\", \"SRR6000898_\", \"SRR6000935_\"], \"y\": [1946, 1746, 2360, 1586, 1638, 1699, 1958, 1870, 1515, 1638, 1903, 1752, 1957, 1502, 1594, 1594, 1727, 1526, 1579, 1490, 1697, 1274, 1356, 1860, 1373, 1230, 1246, 1441, 1238, 1284, 950, 1194, 1197, 1713, 974, 1418, 1029, 909, 796, 790, 564, 781]}],\n",
       "                        {\"barmode\": \"stack\", \"margin\": {\"b\": 100}, \"template\": {\"data\": {\"bar\": [{\"error_x\": {\"color\": \"#2a3f5f\"}, \"error_y\": {\"color\": \"#2a3f5f\"}, \"marker\": {\"line\": {\"color\": \"#E5ECF6\", \"width\": 0.5}}, \"type\": \"bar\"}], \"barpolar\": [{\"marker\": {\"line\": {\"color\": \"#E5ECF6\", \"width\": 0.5}}, \"type\": \"barpolar\"}], \"carpet\": [{\"aaxis\": {\"endlinecolor\": \"#2a3f5f\", \"gridcolor\": \"white\", \"linecolor\": \"white\", \"minorgridcolor\": \"white\", \"startlinecolor\": \"#2a3f5f\"}, \"baxis\": {\"endlinecolor\": \"#2a3f5f\", \"gridcolor\": \"white\", \"linecolor\": \"white\", \"minorgridcolor\": \"white\", \"startlinecolor\": \"#2a3f5f\"}, \"type\": \"carpet\"}], \"choropleth\": [{\"colorbar\": {\"outlinewidth\": 0, \"ticks\": \"\"}, \"type\": \"choropleth\"}], \"contour\": [{\"colorbar\": {\"outlinewidth\": 0, \"ticks\": \"\"}, \"colorscale\": [[0.0, \"#0d0887\"], [0.1111111111111111, \"#46039f\"], [0.2222222222222222, \"#7201a8\"], [0.3333333333333333, \"#9c179e\"], [0.4444444444444444, \"#bd3786\"], [0.5555555555555556, \"#d8576b\"], [0.6666666666666666, \"#ed7953\"], [0.7777777777777778, \"#fb9f3a\"], [0.8888888888888888, \"#fdca26\"], [1.0, \"#f0f921\"]], \"type\": \"contour\"}], \"contourcarpet\": [{\"colorbar\": {\"outlinewidth\": 0, \"ticks\": \"\"}, \"type\": \"contourcarpet\"}], \"heatmap\": [{\"colorbar\": {\"outlinewidth\": 0, \"ticks\": \"\"}, \"colorscale\": [[0.0, \"#0d0887\"], [0.1111111111111111, \"#46039f\"], [0.2222222222222222, \"#7201a8\"], [0.3333333333333333, \"#9c179e\"], [0.4444444444444444, \"#bd3786\"], [0.5555555555555556, \"#d8576b\"], [0.6666666666666666, \"#ed7953\"], [0.7777777777777778, \"#fb9f3a\"], [0.8888888888888888, \"#fdca26\"], [1.0, \"#f0f921\"]], \"type\": \"heatmap\"}], \"heatmapgl\": [{\"colorbar\": {\"outlinewidth\": 0, \"ticks\": \"\"}, \"colorscale\": [[0.0, \"#0d0887\"], [0.1111111111111111, \"#46039f\"], [0.2222222222222222, \"#7201a8\"], [0.3333333333333333, \"#9c179e\"], [0.4444444444444444, \"#bd3786\"], [0.5555555555555556, \"#d8576b\"], [0.6666666666666666, \"#ed7953\"], [0.7777777777777778, \"#fb9f3a\"], [0.8888888888888888, \"#fdca26\"], [1.0, \"#f0f921\"]], \"type\": \"heatmapgl\"}], \"histogram\": [{\"marker\": {\"colorbar\": {\"outlinewidth\": 0, \"ticks\": \"\"}}, \"type\": \"histogram\"}], \"histogram2d\": [{\"colorbar\": {\"outlinewidth\": 0, \"ticks\": \"\"}, \"colorscale\": [[0.0, \"#0d0887\"], [0.1111111111111111, \"#46039f\"], [0.2222222222222222, \"#7201a8\"], [0.3333333333333333, \"#9c179e\"], [0.4444444444444444, \"#bd3786\"], [0.5555555555555556, \"#d8576b\"], [0.6666666666666666, \"#ed7953\"], [0.7777777777777778, \"#fb9f3a\"], [0.8888888888888888, \"#fdca26\"], [1.0, \"#f0f921\"]], \"type\": \"histogram2d\"}], \"histogram2dcontour\": [{\"colorbar\": {\"outlinewidth\": 0, \"ticks\": \"\"}, \"colorscale\": [[0.0, \"#0d0887\"], [0.1111111111111111, \"#46039f\"], [0.2222222222222222, \"#7201a8\"], [0.3333333333333333, \"#9c179e\"], [0.4444444444444444, \"#bd3786\"], [0.5555555555555556, \"#d8576b\"], [0.6666666666666666, \"#ed7953\"], [0.7777777777777778, \"#fb9f3a\"], [0.8888888888888888, \"#fdca26\"], [1.0, \"#f0f921\"]], \"type\": \"histogram2dcontour\"}], \"mesh3d\": [{\"colorbar\": {\"outlinewidth\": 0, \"ticks\": \"\"}, \"type\": \"mesh3d\"}], \"parcoords\": [{\"line\": {\"colorbar\": {\"outlinewidth\": 0, \"ticks\": \"\"}}, \"type\": \"parcoords\"}], \"pie\": [{\"automargin\": true, \"type\": \"pie\"}], \"scatter\": [{\"marker\": {\"colorbar\": {\"outlinewidth\": 0, \"ticks\": \"\"}}, \"type\": \"scatter\"}], \"scatter3d\": [{\"line\": {\"colorbar\": {\"outlinewidth\": 0, \"ticks\": \"\"}}, \"marker\": {\"colorbar\": {\"outlinewidth\": 0, \"ticks\": \"\"}}, \"type\": \"scatter3d\"}], \"scattercarpet\": [{\"marker\": {\"colorbar\": {\"outlinewidth\": 0, \"ticks\": \"\"}}, \"type\": \"scattercarpet\"}], \"scattergeo\": [{\"marker\": {\"colorbar\": {\"outlinewidth\": 0, \"ticks\": \"\"}}, \"type\": \"scattergeo\"}], \"scattergl\": [{\"marker\": {\"colorbar\": {\"outlinewidth\": 0, \"ticks\": \"\"}}, \"type\": \"scattergl\"}], \"scattermapbox\": [{\"marker\": {\"colorbar\": {\"outlinewidth\": 0, \"ticks\": \"\"}}, \"type\": \"scattermapbox\"}], \"scatterpolar\": [{\"marker\": {\"colorbar\": {\"outlinewidth\": 0, \"ticks\": \"\"}}, \"type\": \"scatterpolar\"}], \"scatterpolargl\": [{\"marker\": {\"colorbar\": {\"outlinewidth\": 0, \"ticks\": \"\"}}, \"type\": \"scatterpolargl\"}], \"scatterternary\": [{\"marker\": {\"colorbar\": {\"outlinewidth\": 0, \"ticks\": \"\"}}, \"type\": \"scatterternary\"}], \"surface\": [{\"colorbar\": {\"outlinewidth\": 0, \"ticks\": \"\"}, \"colorscale\": [[0.0, \"#0d0887\"], [0.1111111111111111, \"#46039f\"], [0.2222222222222222, \"#7201a8\"], [0.3333333333333333, \"#9c179e\"], [0.4444444444444444, \"#bd3786\"], [0.5555555555555556, \"#d8576b\"], [0.6666666666666666, \"#ed7953\"], [0.7777777777777778, \"#fb9f3a\"], [0.8888888888888888, \"#fdca26\"], [1.0, \"#f0f921\"]], \"type\": \"surface\"}], \"table\": [{\"cells\": {\"fill\": {\"color\": \"#EBF0F8\"}, \"line\": {\"color\": \"white\"}}, \"header\": {\"fill\": {\"color\": \"#C8D4E3\"}, \"line\": {\"color\": \"white\"}}, \"type\": \"table\"}]}, \"layout\": {\"annotationdefaults\": {\"arrowcolor\": \"#2a3f5f\", \"arrowhead\": 0, \"arrowwidth\": 1}, \"coloraxis\": {\"colorbar\": {\"outlinewidth\": 0, \"ticks\": \"\"}}, \"colorscale\": {\"diverging\": [[0, \"#8e0152\"], [0.1, \"#c51b7d\"], [0.2, \"#de77ae\"], [0.3, \"#f1b6da\"], [0.4, \"#fde0ef\"], [0.5, \"#f7f7f7\"], [0.6, \"#e6f5d0\"], [0.7, \"#b8e186\"], [0.8, \"#7fbc41\"], [0.9, \"#4d9221\"], [1, \"#276419\"]], \"sequential\": [[0.0, \"#0d0887\"], [0.1111111111111111, \"#46039f\"], [0.2222222222222222, \"#7201a8\"], [0.3333333333333333, \"#9c179e\"], [0.4444444444444444, \"#bd3786\"], [0.5555555555555556, \"#d8576b\"], [0.6666666666666666, \"#ed7953\"], [0.7777777777777778, \"#fb9f3a\"], [0.8888888888888888, \"#fdca26\"], [1.0, \"#f0f921\"]], \"sequentialminus\": [[0.0, \"#0d0887\"], [0.1111111111111111, \"#46039f\"], [0.2222222222222222, \"#7201a8\"], [0.3333333333333333, \"#9c179e\"], [0.4444444444444444, \"#bd3786\"], [0.5555555555555556, \"#d8576b\"], [0.6666666666666666, \"#ed7953\"], [0.7777777777777778, \"#fb9f3a\"], [0.8888888888888888, \"#fdca26\"], [1.0, \"#f0f921\"]]}, \"colorway\": [\"#636efa\", \"#EF553B\", \"#00cc96\", \"#ab63fa\", \"#FFA15A\", \"#19d3f3\", \"#FF6692\", \"#B6E880\", \"#FF97FF\", \"#FECB52\"], \"font\": {\"color\": \"#2a3f5f\"}, \"geo\": {\"bgcolor\": \"white\", \"lakecolor\": \"white\", \"landcolor\": \"#E5ECF6\", \"showlakes\": true, \"showland\": true, \"subunitcolor\": \"white\"}, \"hoverlabel\": {\"align\": \"left\"}, \"hovermode\": \"closest\", \"mapbox\": {\"style\": \"light\"}, \"paper_bgcolor\": \"white\", \"plot_bgcolor\": \"#E5ECF6\", \"polar\": {\"angularaxis\": {\"gridcolor\": \"white\", \"linecolor\": \"white\", \"ticks\": \"\"}, \"bgcolor\": \"#E5ECF6\", \"radialaxis\": {\"gridcolor\": \"white\", \"linecolor\": \"white\", \"ticks\": \"\"}}, \"scene\": {\"xaxis\": {\"backgroundcolor\": \"#E5ECF6\", \"gridcolor\": \"white\", \"gridwidth\": 2, \"linecolor\": \"white\", \"showbackground\": true, \"ticks\": \"\", \"zerolinecolor\": \"white\"}, \"yaxis\": {\"backgroundcolor\": \"#E5ECF6\", \"gridcolor\": \"white\", \"gridwidth\": 2, \"linecolor\": \"white\", \"showbackground\": true, \"ticks\": \"\", \"zerolinecolor\": \"white\"}, \"zaxis\": {\"backgroundcolor\": \"#E5ECF6\", \"gridcolor\": \"white\", \"gridwidth\": 2, \"linecolor\": \"white\", \"showbackground\": true, \"ticks\": \"\", \"zerolinecolor\": \"white\"}}, \"shapedefaults\": {\"line\": {\"color\": \"#2a3f5f\"}}, \"ternary\": {\"aaxis\": {\"gridcolor\": \"white\", \"linecolor\": \"white\", \"ticks\": \"\"}, \"baxis\": {\"gridcolor\": \"white\", \"linecolor\": \"white\", \"ticks\": \"\"}, \"bgcolor\": \"#E5ECF6\", \"caxis\": {\"gridcolor\": \"white\", \"linecolor\": \"white\", \"ticks\": \"\"}}, \"title\": {\"x\": 0.05}, \"xaxis\": {\"automargin\": true, \"gridcolor\": \"white\", \"linecolor\": \"white\", \"ticks\": \"\", \"title\": {\"standoff\": 15}, \"zerolinecolor\": \"white\", \"zerolinewidth\": 2}, \"yaxis\": {\"automargin\": true, \"gridcolor\": \"white\", \"linecolor\": \"white\", \"ticks\": \"\", \"title\": {\"standoff\": 15}, \"zerolinecolor\": \"white\", \"zerolinewidth\": 2}}}, \"title\": {\"text\": \"Reads number\"}, \"width\": 1800},\n",
       "                        {\"responsive\": true}\n",
       "                    ).then(function(){\n",
       "                            \n",
       "var gd = document.getElementById('f049631e-1811-4326-8d03-fe143fc5813d');\n",
       "var x = new MutationObserver(function (mutations, observer) {{\n",
       "        var display = window.getComputedStyle(gd).display;\n",
       "        if (!display || display === 'none') {{\n",
       "            console.log([gd, 'removed!']);\n",
       "            Plotly.purge(gd);\n",
       "            observer.disconnect();\n",
       "        }}\n",
       "}});\n",
       "\n",
       "// Listen for the removal of the full notebook cells\n",
       "var notebookContainer = gd.closest('#notebook-container');\n",
       "if (notebookContainer) {{\n",
       "    x.observe(notebookContainer, {childList: true});\n",
       "}}\n",
       "\n",
       "// Listen for the clearing of the current output cell\n",
       "var outputEl = gd.closest('.output');\n",
       "if (outputEl) {{\n",
       "    x.observe(outputEl, {childList: true});\n",
       "}}\n",
       "\n",
       "                        })\n",
       "                };\n",
       "                });\n",
       "            </script>\n",
       "        </div>"
      ]
     },
     "metadata": {},
     "output_type": "display_data"
    },
    {
     "name": "stdout",
     "output_type": "stream",
     "text": [
      "42\n"
     ]
    },
    {
     "data": {
      "text/html": [
       "<div>\n",
       "<style scoped>\n",
       "    .dataframe tbody tr th:only-of-type {\n",
       "        vertical-align: middle;\n",
       "    }\n",
       "\n",
       "    .dataframe tbody tr th {\n",
       "        vertical-align: top;\n",
       "    }\n",
       "\n",
       "    .dataframe thead th {\n",
       "        text-align: right;\n",
       "    }\n",
       "</style>\n",
       "<table border=\"1\" class=\"dataframe\">\n",
       "  <thead>\n",
       "    <tr style=\"text-align: right;\">\n",
       "      <th></th>\n",
       "      <th>preproc</th>\n",
       "      <th>df</th>\n",
       "      <th>fs_prefix</th>\n",
       "      <th>df_sample</th>\n",
       "      <th>reads</th>\n",
       "    </tr>\n",
       "  </thead>\n",
       "  <tbody>\n",
       "    <tr>\n",
       "      <th>0</th>\n",
       "      <td>sra</td>\n",
       "      <td>Matson_Human_16s</td>\n",
       "      <td>/data11/bio/mg_data/CANCER_EXTERNAL</td>\n",
       "      <td>SRR6000939</td>\n",
       "      <td>22171</td>\n",
       "    </tr>\n",
       "    <tr>\n",
       "      <th>1</th>\n",
       "      <td>sra</td>\n",
       "      <td>Matson_Human_16s</td>\n",
       "      <td>/data11/bio/mg_data/CANCER_EXTERNAL</td>\n",
       "      <td>SRR6000938</td>\n",
       "      <td>27916</td>\n",
       "    </tr>\n",
       "    <tr>\n",
       "      <th>2</th>\n",
       "      <td>sra</td>\n",
       "      <td>Matson_Human_16s</td>\n",
       "      <td>/data11/bio/mg_data/CANCER_EXTERNAL</td>\n",
       "      <td>SRR6000919</td>\n",
       "      <td>25260</td>\n",
       "    </tr>\n",
       "  </tbody>\n",
       "</table>\n",
       "</div>"
      ],
      "text/plain": [
       "  preproc                df                            fs_prefix   df_sample  reads\n",
       "0     sra  Matson_Human_16s  /data11/bio/mg_data/CANCER_EXTERNAL  SRR6000939  22171\n",
       "1     sra  Matson_Human_16s  /data11/bio/mg_data/CANCER_EXTERNAL  SRR6000938  27916\n",
       "2     sra  Matson_Human_16s  /data11/bio/mg_data/CANCER_EXTERNAL  SRR6000919  25260"
      ]
     },
     "execution_count": 4,
     "metadata": {},
     "output_type": "execute_result"
    }
   ],
   "source": [
    "matson = assnake.Dataset('Matson_Human_16s')\n",
    "matson.plot_reads_loss(sort='sra')\n",
    "df_samples = matson.sample_sets['sra']\n",
    "print(len(df_samples))\n",
    "df_samples.head(3)"
   ]
  },
  {
   "cell_type": "code",
   "execution_count": 7,
   "metadata": {},
   "outputs": [
    {
     "name": "stdout",
     "output_type": "stream",
     "text": [
      "42\n",
      "42\n"
     ]
    }
   ],
   "source": [
    "sra_run = pd.read_csv('../METADATA/SraRunTable.txt')\n",
    "sra_run = sra_run[['Run', 'Assay Type', 'Host', 'LibrarySelection', 'Sample Name', 'subject_id']]\n",
    "sra_run.head(3)\n",
    "# sra_run.loc[(sra_run['Assay Type'] == 'WGS') & (sra_run['Host'] == 'Homo sapiens')]\n",
    "\n",
    "_meta = df_samples.merge(sra_run, left_on = 'df_sample', right_on = 'Run')\n",
    "print(len(_meta))\n",
    "_meta.sort_values('subject_id').head(3)\n",
    "\n",
    "meta = pd.read_csv('../METADATA/human_16S.sampleinfo.csv')\n",
    "print(len(meta))\n",
    "meta.head(3)\n",
    "\n",
    "meta = meta.merge(_meta, left_on = 'Sample', right_on = 'subject_id')\n",
    "meta = meta.drop(['df', 'fs_prefix', 'Run'], axis = 1)\n",
    "meta = meta.set_index('df_sample')\n",
    "meta.to_csv('../METADATA/meta_human_16s.tsv', sep = '\\t')\n"
   ]
  },
  {
   "cell_type": "code",
   "execution_count": 6,
   "metadata": {},
   "outputs": [
    {
     "data": {
      "text/html": [
       "<div>\n",
       "<style scoped>\n",
       "    .dataframe tbody tr th:only-of-type {\n",
       "        vertical-align: middle;\n",
       "    }\n",
       "\n",
       "    .dataframe tbody tr th {\n",
       "        vertical-align: top;\n",
       "    }\n",
       "\n",
       "    .dataframe thead th {\n",
       "        text-align: right;\n",
       "    }\n",
       "</style>\n",
       "<table border=\"1\" class=\"dataframe\">\n",
       "  <thead>\n",
       "    <tr style=\"text-align: right;\">\n",
       "      <th></th>\n",
       "      <th>Sample</th>\n",
       "      <th>Response</th>\n",
       "      <th>BORR</th>\n",
       "      <th>RECIST%</th>\n",
       "      <th>preproc</th>\n",
       "      <th>reads</th>\n",
       "      <th>Assay Type</th>\n",
       "      <th>Host</th>\n",
       "      <th>LibrarySelection</th>\n",
       "      <th>Sample Name</th>\n",
       "      <th>subject_id</th>\n",
       "    </tr>\n",
       "    <tr>\n",
       "      <th>df_sample</th>\n",
       "      <th></th>\n",
       "      <th></th>\n",
       "      <th></th>\n",
       "      <th></th>\n",
       "      <th></th>\n",
       "      <th></th>\n",
       "      <th></th>\n",
       "      <th></th>\n",
       "      <th></th>\n",
       "      <th></th>\n",
       "      <th></th>\n",
       "    </tr>\n",
       "  </thead>\n",
       "  <tbody>\n",
       "    <tr>\n",
       "      <th>SRR6000938</th>\n",
       "      <td>P01</td>\n",
       "      <td>NonResponder</td>\n",
       "      <td>Stable Disease</td>\n",
       "      <td>-11</td>\n",
       "      <td>sra</td>\n",
       "      <td>27916</td>\n",
       "      <td>AMPLICON</td>\n",
       "      <td>Homo sapiens</td>\n",
       "      <td>PCR</td>\n",
       "      <td>SAM_01</td>\n",
       "      <td>P01</td>\n",
       "    </tr>\n",
       "    <tr>\n",
       "      <th>SRR6000937</th>\n",
       "      <td>P02</td>\n",
       "      <td>Responder</td>\n",
       "      <td>Partial Response</td>\n",
       "      <td>-65</td>\n",
       "      <td>sra</td>\n",
       "      <td>23268</td>\n",
       "      <td>AMPLICON</td>\n",
       "      <td>Homo sapiens</td>\n",
       "      <td>PCR</td>\n",
       "      <td>SAM_02</td>\n",
       "      <td>P02</td>\n",
       "    </tr>\n",
       "    <tr>\n",
       "      <th>SRR6000948</th>\n",
       "      <td>P03</td>\n",
       "      <td>NonResponder</td>\n",
       "      <td>Progressive Disease</td>\n",
       "      <td>38</td>\n",
       "      <td>sra</td>\n",
       "      <td>22348</td>\n",
       "      <td>AMPLICON</td>\n",
       "      <td>Homo sapiens</td>\n",
       "      <td>PCR</td>\n",
       "      <td>SAM_03</td>\n",
       "      <td>P03</td>\n",
       "    </tr>\n",
       "    <tr>\n",
       "      <th>SRR6000941</th>\n",
       "      <td>P04</td>\n",
       "      <td>NonResponder</td>\n",
       "      <td>Stable Disease</td>\n",
       "      <td>-7</td>\n",
       "      <td>sra</td>\n",
       "      <td>23703</td>\n",
       "      <td>AMPLICON</td>\n",
       "      <td>Homo sapiens</td>\n",
       "      <td>PCR</td>\n",
       "      <td>SAM_04</td>\n",
       "      <td>P04</td>\n",
       "    </tr>\n",
       "    <tr>\n",
       "      <th>SRR6000935</th>\n",
       "      <td>P05</td>\n",
       "      <td>NonResponder</td>\n",
       "      <td>Progressive Disease</td>\n",
       "      <td>58</td>\n",
       "      <td>sra</td>\n",
       "      <td>14020</td>\n",
       "      <td>AMPLICON</td>\n",
       "      <td>Homo sapiens</td>\n",
       "      <td>PCR</td>\n",
       "      <td>SAM_05</td>\n",
       "      <td>P05</td>\n",
       "    </tr>\n",
       "    <tr>\n",
       "      <th>SRR6000934</th>\n",
       "      <td>P06</td>\n",
       "      <td>NonResponder</td>\n",
       "      <td>Stable Disease</td>\n",
       "      <td>27</td>\n",
       "      <td>sra</td>\n",
       "      <td>27398</td>\n",
       "      <td>AMPLICON</td>\n",
       "      <td>Homo sapiens</td>\n",
       "      <td>PCR</td>\n",
       "      <td>SAM_06</td>\n",
       "      <td>P06</td>\n",
       "    </tr>\n",
       "    <tr>\n",
       "      <th>SRR6000936</th>\n",
       "      <td>P07</td>\n",
       "      <td>Responder</td>\n",
       "      <td>Partial Response</td>\n",
       "      <td>-60</td>\n",
       "      <td>sra</td>\n",
       "      <td>19451</td>\n",
       "      <td>AMPLICON</td>\n",
       "      <td>Homo sapiens</td>\n",
       "      <td>PCR</td>\n",
       "      <td>SAM_07</td>\n",
       "      <td>P07</td>\n",
       "    </tr>\n",
       "    <tr>\n",
       "      <th>SRR6000939</th>\n",
       "      <td>P08</td>\n",
       "      <td>NonResponder</td>\n",
       "      <td>Progressive Disease</td>\n",
       "      <td>65</td>\n",
       "      <td>sra</td>\n",
       "      <td>22171</td>\n",
       "      <td>AMPLICON</td>\n",
       "      <td>Homo sapiens</td>\n",
       "      <td>PCR</td>\n",
       "      <td>SAM_08</td>\n",
       "      <td>P08</td>\n",
       "    </tr>\n",
       "    <tr>\n",
       "      <th>SRR6000933</th>\n",
       "      <td>P09</td>\n",
       "      <td>Responder</td>\n",
       "      <td>Partial Response</td>\n",
       "      <td>-51</td>\n",
       "      <td>sra</td>\n",
       "      <td>22084</td>\n",
       "      <td>AMPLICON</td>\n",
       "      <td>Homo sapiens</td>\n",
       "      <td>PCR</td>\n",
       "      <td>SAM_09</td>\n",
       "      <td>P09</td>\n",
       "    </tr>\n",
       "    <tr>\n",
       "      <th>SRR6000904</th>\n",
       "      <td>P10</td>\n",
       "      <td>NonResponder</td>\n",
       "      <td>Progressive Disease</td>\n",
       "      <td>357</td>\n",
       "      <td>sra</td>\n",
       "      <td>28139</td>\n",
       "      <td>AMPLICON</td>\n",
       "      <td>Homo sapiens</td>\n",
       "      <td>PCR</td>\n",
       "      <td>SAM_10</td>\n",
       "      <td>P10</td>\n",
       "    </tr>\n",
       "    <tr>\n",
       "      <th>SRR6000930</th>\n",
       "      <td>P11</td>\n",
       "      <td>NonResponder</td>\n",
       "      <td>Stable Disease</td>\n",
       "      <td>-28</td>\n",
       "      <td>sra</td>\n",
       "      <td>25959</td>\n",
       "      <td>AMPLICON</td>\n",
       "      <td>Homo sapiens</td>\n",
       "      <td>PCR</td>\n",
       "      <td>SAM_11</td>\n",
       "      <td>P11</td>\n",
       "    </tr>\n",
       "    <tr>\n",
       "      <th>SRR6000929</th>\n",
       "      <td>P12</td>\n",
       "      <td>NonResponder</td>\n",
       "      <td>Stable Disease</td>\n",
       "      <td>-9</td>\n",
       "      <td>sra</td>\n",
       "      <td>23619</td>\n",
       "      <td>AMPLICON</td>\n",
       "      <td>Homo sapiens</td>\n",
       "      <td>PCR</td>\n",
       "      <td>SAM_12</td>\n",
       "      <td>P12</td>\n",
       "    </tr>\n",
       "    <tr>\n",
       "      <th>SRR6000928</th>\n",
       "      <td>P13</td>\n",
       "      <td>Responder</td>\n",
       "      <td>Partial Response</td>\n",
       "      <td>-34</td>\n",
       "      <td>sra</td>\n",
       "      <td>26661</td>\n",
       "      <td>AMPLICON</td>\n",
       "      <td>Homo sapiens</td>\n",
       "      <td>PCR</td>\n",
       "      <td>SAM_13</td>\n",
       "      <td>P13</td>\n",
       "    </tr>\n",
       "    <tr>\n",
       "      <th>SRR6000927</th>\n",
       "      <td>P14</td>\n",
       "      <td>NonResponder</td>\n",
       "      <td>Stable Disease</td>\n",
       "      <td>29</td>\n",
       "      <td>sra</td>\n",
       "      <td>17986</td>\n",
       "      <td>AMPLICON</td>\n",
       "      <td>Homo sapiens</td>\n",
       "      <td>PCR</td>\n",
       "      <td>SAM_14</td>\n",
       "      <td>P14</td>\n",
       "    </tr>\n",
       "    <tr>\n",
       "      <th>SRR6000926</th>\n",
       "      <td>P15</td>\n",
       "      <td>NonResponder</td>\n",
       "      <td>Progressive Disease</td>\n",
       "      <td>69</td>\n",
       "      <td>sra</td>\n",
       "      <td>24712</td>\n",
       "      <td>AMPLICON</td>\n",
       "      <td>Homo sapiens</td>\n",
       "      <td>PCR</td>\n",
       "      <td>SAM_15</td>\n",
       "      <td>P15</td>\n",
       "    </tr>\n",
       "    <tr>\n",
       "      <th>SRR6000925</th>\n",
       "      <td>P16</td>\n",
       "      <td>Responder</td>\n",
       "      <td>Partial Response</td>\n",
       "      <td>-74</td>\n",
       "      <td>sra</td>\n",
       "      <td>30078</td>\n",
       "      <td>AMPLICON</td>\n",
       "      <td>Homo sapiens</td>\n",
       "      <td>PCR</td>\n",
       "      <td>SAM_16</td>\n",
       "      <td>P16</td>\n",
       "    </tr>\n",
       "    <tr>\n",
       "      <th>SRR6000924</th>\n",
       "      <td>P17</td>\n",
       "      <td>NonResponder</td>\n",
       "      <td>Progressive Disease</td>\n",
       "      <td>29</td>\n",
       "      <td>sra</td>\n",
       "      <td>28320</td>\n",
       "      <td>AMPLICON</td>\n",
       "      <td>Homo sapiens</td>\n",
       "      <td>PCR</td>\n",
       "      <td>SAM_17</td>\n",
       "      <td>P17</td>\n",
       "    </tr>\n",
       "    <tr>\n",
       "      <th>SRR6000923</th>\n",
       "      <td>P18</td>\n",
       "      <td>NonResponder</td>\n",
       "      <td>Stable Disease</td>\n",
       "      <td>19</td>\n",
       "      <td>sra</td>\n",
       "      <td>15393</td>\n",
       "      <td>AMPLICON</td>\n",
       "      <td>Homo sapiens</td>\n",
       "      <td>PCR</td>\n",
       "      <td>SAM_18</td>\n",
       "      <td>P18</td>\n",
       "    </tr>\n",
       "    <tr>\n",
       "      <th>SRR6000922</th>\n",
       "      <td>P19</td>\n",
       "      <td>NonResponder</td>\n",
       "      <td>Progressive Disease</td>\n",
       "      <td>53</td>\n",
       "      <td>sra</td>\n",
       "      <td>28580</td>\n",
       "      <td>AMPLICON</td>\n",
       "      <td>Homo sapiens</td>\n",
       "      <td>PCR</td>\n",
       "      <td>SAM_19</td>\n",
       "      <td>P19</td>\n",
       "    </tr>\n",
       "    <tr>\n",
       "      <th>SRR6000919</th>\n",
       "      <td>P20</td>\n",
       "      <td>Responder</td>\n",
       "      <td>Partial Response</td>\n",
       "      <td>-84</td>\n",
       "      <td>sra</td>\n",
       "      <td>25260</td>\n",
       "      <td>AMPLICON</td>\n",
       "      <td>Homo sapiens</td>\n",
       "      <td>PCR</td>\n",
       "      <td>SAM_20</td>\n",
       "      <td>P20</td>\n",
       "    </tr>\n",
       "    <tr>\n",
       "      <th>SRR6000886</th>\n",
       "      <td>P21</td>\n",
       "      <td>NonResponder</td>\n",
       "      <td>Stable Disease</td>\n",
       "      <td>-18</td>\n",
       "      <td>sra</td>\n",
       "      <td>30245</td>\n",
       "      <td>AMPLICON</td>\n",
       "      <td>Homo sapiens</td>\n",
       "      <td>PCR</td>\n",
       "      <td>SAM_21</td>\n",
       "      <td>P21</td>\n",
       "    </tr>\n",
       "    <tr>\n",
       "      <th>SRR6000887</th>\n",
       "      <td>P22</td>\n",
       "      <td>NonResponder</td>\n",
       "      <td>Progressive Disease</td>\n",
       "      <td>61</td>\n",
       "      <td>sra</td>\n",
       "      <td>21091</td>\n",
       "      <td>AMPLICON</td>\n",
       "      <td>Homo sapiens</td>\n",
       "      <td>PCR</td>\n",
       "      <td>SAM_22</td>\n",
       "      <td>P22</td>\n",
       "    </tr>\n",
       "    <tr>\n",
       "      <th>SRR6000884</th>\n",
       "      <td>P23</td>\n",
       "      <td>Responder</td>\n",
       "      <td>Complete Response</td>\n",
       "      <td>-100</td>\n",
       "      <td>sra</td>\n",
       "      <td>27881</td>\n",
       "      <td>AMPLICON</td>\n",
       "      <td>Homo sapiens</td>\n",
       "      <td>PCR</td>\n",
       "      <td>SAM_23</td>\n",
       "      <td>P23</td>\n",
       "    </tr>\n",
       "    <tr>\n",
       "      <th>SRR6000885</th>\n",
       "      <td>P24</td>\n",
       "      <td>Responder</td>\n",
       "      <td>Partial Response</td>\n",
       "      <td>-69</td>\n",
       "      <td>sra</td>\n",
       "      <td>30424</td>\n",
       "      <td>AMPLICON</td>\n",
       "      <td>Homo sapiens</td>\n",
       "      <td>PCR</td>\n",
       "      <td>SAM_24</td>\n",
       "      <td>P24</td>\n",
       "    </tr>\n",
       "    <tr>\n",
       "      <th>SRR6000882</th>\n",
       "      <td>P25</td>\n",
       "      <td>NonResponder</td>\n",
       "      <td>Stable Disease</td>\n",
       "      <td>16</td>\n",
       "      <td>sra</td>\n",
       "      <td>34464</td>\n",
       "      <td>AMPLICON</td>\n",
       "      <td>Homo sapiens</td>\n",
       "      <td>PCR</td>\n",
       "      <td>SAM_25</td>\n",
       "      <td>P25</td>\n",
       "    </tr>\n",
       "    <tr>\n",
       "      <th>SRR6000883</th>\n",
       "      <td>P26</td>\n",
       "      <td>NonResponder</td>\n",
       "      <td>Stable Disease</td>\n",
       "      <td>5</td>\n",
       "      <td>sra</td>\n",
       "      <td>29240</td>\n",
       "      <td>AMPLICON</td>\n",
       "      <td>Homo sapiens</td>\n",
       "      <td>PCR</td>\n",
       "      <td>SAM_26</td>\n",
       "      <td>P26</td>\n",
       "    </tr>\n",
       "    <tr>\n",
       "      <th>SRR6000880</th>\n",
       "      <td>P27</td>\n",
       "      <td>Responder</td>\n",
       "      <td>Complete Response</td>\n",
       "      <td>-100</td>\n",
       "      <td>sra</td>\n",
       "      <td>22892</td>\n",
       "      <td>AMPLICON</td>\n",
       "      <td>Homo sapiens</td>\n",
       "      <td>PCR</td>\n",
       "      <td>SAM_27</td>\n",
       "      <td>P27</td>\n",
       "    </tr>\n",
       "    <tr>\n",
       "      <th>SRR6000881</th>\n",
       "      <td>P28</td>\n",
       "      <td>Responder</td>\n",
       "      <td>Partial Response</td>\n",
       "      <td>-66</td>\n",
       "      <td>sra</td>\n",
       "      <td>27802</td>\n",
       "      <td>AMPLICON</td>\n",
       "      <td>Homo sapiens</td>\n",
       "      <td>PCR</td>\n",
       "      <td>SAM_28</td>\n",
       "      <td>P28</td>\n",
       "    </tr>\n",
       "    <tr>\n",
       "      <th>SRR6000888</th>\n",
       "      <td>P29</td>\n",
       "      <td>Responder</td>\n",
       "      <td>Partial Response</td>\n",
       "      <td>-69</td>\n",
       "      <td>sra</td>\n",
       "      <td>30734</td>\n",
       "      <td>AMPLICON</td>\n",
       "      <td>Homo sapiens</td>\n",
       "      <td>PCR</td>\n",
       "      <td>SAM_29</td>\n",
       "      <td>P29</td>\n",
       "    </tr>\n",
       "    <tr>\n",
       "      <th>SRR6000889</th>\n",
       "      <td>P30</td>\n",
       "      <td>NonResponder</td>\n",
       "      <td>Progressive Disease</td>\n",
       "      <td>244</td>\n",
       "      <td>sra</td>\n",
       "      <td>28633</td>\n",
       "      <td>AMPLICON</td>\n",
       "      <td>Homo sapiens</td>\n",
       "      <td>PCR</td>\n",
       "      <td>SAM_30</td>\n",
       "      <td>P30</td>\n",
       "    </tr>\n",
       "    <tr>\n",
       "      <th>SRR6000918</th>\n",
       "      <td>P31</td>\n",
       "      <td>NonResponder</td>\n",
       "      <td>Progressive Disease</td>\n",
       "      <td>331</td>\n",
       "      <td>sra</td>\n",
       "      <td>25838</td>\n",
       "      <td>AMPLICON</td>\n",
       "      <td>Homo sapiens</td>\n",
       "      <td>PCR</td>\n",
       "      <td>SAM_31</td>\n",
       "      <td>P31</td>\n",
       "    </tr>\n",
       "    <tr>\n",
       "      <th>SRR6000917</th>\n",
       "      <td>P32</td>\n",
       "      <td>NonResponder</td>\n",
       "      <td>Progressive Disease</td>\n",
       "      <td>91</td>\n",
       "      <td>sra</td>\n",
       "      <td>20725</td>\n",
       "      <td>AMPLICON</td>\n",
       "      <td>Homo sapiens</td>\n",
       "      <td>PCR</td>\n",
       "      <td>SAM_32</td>\n",
       "      <td>P32</td>\n",
       "    </tr>\n",
       "    <tr>\n",
       "      <th>SRR6000879</th>\n",
       "      <td>P33</td>\n",
       "      <td>Responder</td>\n",
       "      <td>Partial Response</td>\n",
       "      <td>-35</td>\n",
       "      <td>sra</td>\n",
       "      <td>32198</td>\n",
       "      <td>AMPLICON</td>\n",
       "      <td>Homo sapiens</td>\n",
       "      <td>PCR</td>\n",
       "      <td>SAM_33</td>\n",
       "      <td>P33</td>\n",
       "    </tr>\n",
       "    <tr>\n",
       "      <th>SRR6000872</th>\n",
       "      <td>P34</td>\n",
       "      <td>Responder</td>\n",
       "      <td>Partial Response</td>\n",
       "      <td>-81</td>\n",
       "      <td>sra</td>\n",
       "      <td>24074</td>\n",
       "      <td>AMPLICON</td>\n",
       "      <td>Homo sapiens</td>\n",
       "      <td>PCR</td>\n",
       "      <td>SAM_34</td>\n",
       "      <td>P34</td>\n",
       "    </tr>\n",
       "    <tr>\n",
       "      <th>SRR6000914</th>\n",
       "      <td>P35</td>\n",
       "      <td>NonResponder</td>\n",
       "      <td>Stable Disease</td>\n",
       "      <td>-19</td>\n",
       "      <td>sra</td>\n",
       "      <td>30699</td>\n",
       "      <td>AMPLICON</td>\n",
       "      <td>Homo sapiens</td>\n",
       "      <td>PCR</td>\n",
       "      <td>SAM_35</td>\n",
       "      <td>P35</td>\n",
       "    </tr>\n",
       "    <tr>\n",
       "      <th>SRR6000913</th>\n",
       "      <td>P36</td>\n",
       "      <td>Responder</td>\n",
       "      <td>Partial Response</td>\n",
       "      <td>-62</td>\n",
       "      <td>sra</td>\n",
       "      <td>24925</td>\n",
       "      <td>AMPLICON</td>\n",
       "      <td>Homo sapiens</td>\n",
       "      <td>PCR</td>\n",
       "      <td>SAM_36</td>\n",
       "      <td>P36</td>\n",
       "    </tr>\n",
       "    <tr>\n",
       "      <th>SRR6000916</th>\n",
       "      <td>P37</td>\n",
       "      <td>Responder</td>\n",
       "      <td>Partial Response</td>\n",
       "      <td>-36</td>\n",
       "      <td>sra</td>\n",
       "      <td>31428</td>\n",
       "      <td>AMPLICON</td>\n",
       "      <td>Homo sapiens</td>\n",
       "      <td>PCR</td>\n",
       "      <td>SAM_37</td>\n",
       "      <td>P37</td>\n",
       "    </tr>\n",
       "    <tr>\n",
       "      <th>SRR6000915</th>\n",
       "      <td>P38</td>\n",
       "      <td>NonResponder</td>\n",
       "      <td>Progressive Disease</td>\n",
       "      <td>59</td>\n",
       "      <td>sra</td>\n",
       "      <td>21427</td>\n",
       "      <td>AMPLICON</td>\n",
       "      <td>Homo sapiens</td>\n",
       "      <td>PCR</td>\n",
       "      <td>SAM_38</td>\n",
       "      <td>P38</td>\n",
       "    </tr>\n",
       "    <tr>\n",
       "      <th>SRR6000898</th>\n",
       "      <td>P39</td>\n",
       "      <td>Responder</td>\n",
       "      <td>Partial Response</td>\n",
       "      <td>-76</td>\n",
       "      <td>sra</td>\n",
       "      <td>14166</td>\n",
       "      <td>AMPLICON</td>\n",
       "      <td>Homo sapiens</td>\n",
       "      <td>PCR</td>\n",
       "      <td>SAM_39</td>\n",
       "      <td>P39</td>\n",
       "    </tr>\n",
       "    <tr>\n",
       "      <th>SRR6000897</th>\n",
       "      <td>P40</td>\n",
       "      <td>NonResponder</td>\n",
       "      <td>Stable Disease</td>\n",
       "      <td>2</td>\n",
       "      <td>sra</td>\n",
       "      <td>28844</td>\n",
       "      <td>AMPLICON</td>\n",
       "      <td>Homo sapiens</td>\n",
       "      <td>PCR</td>\n",
       "      <td>SAM_40</td>\n",
       "      <td>P40</td>\n",
       "    </tr>\n",
       "    <tr>\n",
       "      <th>SRR6000875</th>\n",
       "      <td>P41</td>\n",
       "      <td>NonResponder</td>\n",
       "      <td>Progressive Disease</td>\n",
       "      <td>242</td>\n",
       "      <td>sra</td>\n",
       "      <td>29289</td>\n",
       "      <td>AMPLICON</td>\n",
       "      <td>Homo sapiens</td>\n",
       "      <td>PCR</td>\n",
       "      <td>SAM_41</td>\n",
       "      <td>P41</td>\n",
       "    </tr>\n",
       "    <tr>\n",
       "      <th>SRR6000876</th>\n",
       "      <td>P42</td>\n",
       "      <td>NonResponder</td>\n",
       "      <td>Progressive Disease</td>\n",
       "      <td>45</td>\n",
       "      <td>sra</td>\n",
       "      <td>27532</td>\n",
       "      <td>AMPLICON</td>\n",
       "      <td>Homo sapiens</td>\n",
       "      <td>PCR</td>\n",
       "      <td>SAM_42</td>\n",
       "      <td>P42</td>\n",
       "    </tr>\n",
       "  </tbody>\n",
       "</table>\n",
       "</div>"
      ],
      "text/plain": [
       "           Sample      Response                 BORR  RECIST% preproc  reads Assay Type          Host LibrarySelection Sample Name subject_id\n",
       "df_sample                                                                                                                                    \n",
       "SRR6000938    P01  NonResponder       Stable Disease      -11     sra  27916   AMPLICON  Homo sapiens              PCR      SAM_01        P01\n",
       "SRR6000937    P02     Responder     Partial Response      -65     sra  23268   AMPLICON  Homo sapiens              PCR      SAM_02        P02\n",
       "SRR6000948    P03  NonResponder  Progressive Disease       38     sra  22348   AMPLICON  Homo sapiens              PCR      SAM_03        P03\n",
       "SRR6000941    P04  NonResponder       Stable Disease       -7     sra  23703   AMPLICON  Homo sapiens              PCR      SAM_04        P04\n",
       "SRR6000935    P05  NonResponder  Progressive Disease       58     sra  14020   AMPLICON  Homo sapiens              PCR      SAM_05        P05\n",
       "SRR6000934    P06  NonResponder       Stable Disease       27     sra  27398   AMPLICON  Homo sapiens              PCR      SAM_06        P06\n",
       "SRR6000936    P07     Responder     Partial Response      -60     sra  19451   AMPLICON  Homo sapiens              PCR      SAM_07        P07\n",
       "SRR6000939    P08  NonResponder  Progressive Disease       65     sra  22171   AMPLICON  Homo sapiens              PCR      SAM_08        P08\n",
       "SRR6000933    P09     Responder     Partial Response      -51     sra  22084   AMPLICON  Homo sapiens              PCR      SAM_09        P09\n",
       "SRR6000904    P10  NonResponder  Progressive Disease      357     sra  28139   AMPLICON  Homo sapiens              PCR      SAM_10        P10\n",
       "SRR6000930    P11  NonResponder       Stable Disease      -28     sra  25959   AMPLICON  Homo sapiens              PCR      SAM_11        P11\n",
       "SRR6000929    P12  NonResponder       Stable Disease       -9     sra  23619   AMPLICON  Homo sapiens              PCR      SAM_12        P12\n",
       "SRR6000928    P13     Responder     Partial Response      -34     sra  26661   AMPLICON  Homo sapiens              PCR      SAM_13        P13\n",
       "SRR6000927    P14  NonResponder       Stable Disease       29     sra  17986   AMPLICON  Homo sapiens              PCR      SAM_14        P14\n",
       "SRR6000926    P15  NonResponder  Progressive Disease       69     sra  24712   AMPLICON  Homo sapiens              PCR      SAM_15        P15\n",
       "SRR6000925    P16     Responder     Partial Response      -74     sra  30078   AMPLICON  Homo sapiens              PCR      SAM_16        P16\n",
       "SRR6000924    P17  NonResponder  Progressive Disease       29     sra  28320   AMPLICON  Homo sapiens              PCR      SAM_17        P17\n",
       "SRR6000923    P18  NonResponder       Stable Disease       19     sra  15393   AMPLICON  Homo sapiens              PCR      SAM_18        P18\n",
       "SRR6000922    P19  NonResponder  Progressive Disease       53     sra  28580   AMPLICON  Homo sapiens              PCR      SAM_19        P19\n",
       "SRR6000919    P20     Responder     Partial Response      -84     sra  25260   AMPLICON  Homo sapiens              PCR      SAM_20        P20\n",
       "SRR6000886    P21  NonResponder       Stable Disease      -18     sra  30245   AMPLICON  Homo sapiens              PCR      SAM_21        P21\n",
       "SRR6000887    P22  NonResponder  Progressive Disease       61     sra  21091   AMPLICON  Homo sapiens              PCR      SAM_22        P22\n",
       "SRR6000884    P23     Responder    Complete Response     -100     sra  27881   AMPLICON  Homo sapiens              PCR      SAM_23        P23\n",
       "SRR6000885    P24     Responder     Partial Response      -69     sra  30424   AMPLICON  Homo sapiens              PCR      SAM_24        P24\n",
       "SRR6000882    P25  NonResponder       Stable Disease       16     sra  34464   AMPLICON  Homo sapiens              PCR      SAM_25        P25\n",
       "SRR6000883    P26  NonResponder       Stable Disease        5     sra  29240   AMPLICON  Homo sapiens              PCR      SAM_26        P26\n",
       "SRR6000880    P27     Responder    Complete Response     -100     sra  22892   AMPLICON  Homo sapiens              PCR      SAM_27        P27\n",
       "SRR6000881    P28     Responder     Partial Response      -66     sra  27802   AMPLICON  Homo sapiens              PCR      SAM_28        P28\n",
       "SRR6000888    P29     Responder     Partial Response      -69     sra  30734   AMPLICON  Homo sapiens              PCR      SAM_29        P29\n",
       "SRR6000889    P30  NonResponder  Progressive Disease      244     sra  28633   AMPLICON  Homo sapiens              PCR      SAM_30        P30\n",
       "SRR6000918    P31  NonResponder  Progressive Disease      331     sra  25838   AMPLICON  Homo sapiens              PCR      SAM_31        P31\n",
       "SRR6000917    P32  NonResponder  Progressive Disease       91     sra  20725   AMPLICON  Homo sapiens              PCR      SAM_32        P32\n",
       "SRR6000879    P33     Responder     Partial Response      -35     sra  32198   AMPLICON  Homo sapiens              PCR      SAM_33        P33\n",
       "SRR6000872    P34     Responder     Partial Response      -81     sra  24074   AMPLICON  Homo sapiens              PCR      SAM_34        P34\n",
       "SRR6000914    P35  NonResponder       Stable Disease      -19     sra  30699   AMPLICON  Homo sapiens              PCR      SAM_35        P35\n",
       "SRR6000913    P36     Responder     Partial Response      -62     sra  24925   AMPLICON  Homo sapiens              PCR      SAM_36        P36\n",
       "SRR6000916    P37     Responder     Partial Response      -36     sra  31428   AMPLICON  Homo sapiens              PCR      SAM_37        P37\n",
       "SRR6000915    P38  NonResponder  Progressive Disease       59     sra  21427   AMPLICON  Homo sapiens              PCR      SAM_38        P38\n",
       "SRR6000898    P39     Responder     Partial Response      -76     sra  14166   AMPLICON  Homo sapiens              PCR      SAM_39        P39\n",
       "SRR6000897    P40  NonResponder       Stable Disease        2     sra  28844   AMPLICON  Homo sapiens              PCR      SAM_40        P40\n",
       "SRR6000875    P41  NonResponder  Progressive Disease      242     sra  29289   AMPLICON  Homo sapiens              PCR      SAM_41        P41\n",
       "SRR6000876    P42  NonResponder  Progressive Disease       45     sra  27532   AMPLICON  Homo sapiens              PCR      SAM_42        P42"
      ]
     },
     "execution_count": 6,
     "metadata": {},
     "output_type": "execute_result"
    }
   ],
   "source": [
    "meta"
   ]
  }
 ],
 "metadata": {
  "kernelspec": {
   "display_name": "Python 3",
   "language": "python",
   "name": "python3"
  },
  "language_info": {
   "codemirror_mode": {
    "name": "ipython",
    "version": 3
   },
   "file_extension": ".py",
   "mimetype": "text/x-python",
   "name": "python",
   "nbconvert_exporter": "python",
   "pygments_lexer": "ipython3",
   "version": "3.6.10"
  }
 },
 "nbformat": 4,
 "nbformat_minor": 4
}
