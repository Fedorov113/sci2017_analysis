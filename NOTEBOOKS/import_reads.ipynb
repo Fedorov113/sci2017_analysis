{
 "cells": [
  {
   "cell_type": "code",
   "execution_count": 2,
   "metadata": {},
   "outputs": [],
   "source": [
    "import assnake\n",
    "from assnake.api.fs_helpers import get_samples_from_dir\n",
    "from assnake.api.fs_helpers import create_links"
   ]
  },
  {
   "cell_type": "code",
   "execution_count": 7,
   "metadata": {},
   "outputs": [],
   "source": [
    "run_loc = '/data11/bio/mg_data/CANCER_EXTERNAL/Matson_2019/downloaded'\n",
    "\n",
    "modify_name = lambda name: name\n",
    "samples_in_run = get_samples_from_dir(run_loc,  modify_name)\n",
    "samples_in_run['df_sample'] = samples_in_run['name_in_run']"
   ]
  },
  {
   "cell_type": "code",
   "execution_count": 8,
   "metadata": {},
   "outputs": [],
   "source": [
    "create_links('/data11/bio/mg_data/CANCER_EXTERNAL/Matson_2019/reads/sra', samples_in_run)"
   ]
  }
 ],
 "metadata": {
  "kernelspec": {
   "display_name": "Python 3",
   "language": "python",
   "name": "python3"
  },
  "language_info": {
   "codemirror_mode": {
    "name": "ipython",
    "version": 3
   },
   "file_extension": ".py",
   "mimetype": "text/x-python",
   "name": "python",
   "nbconvert_exporter": "python",
   "pygments_lexer": "ipython3",
   "version": "3.6.10"
  }
 },
 "nbformat": 4,
 "nbformat_minor": 4
}
