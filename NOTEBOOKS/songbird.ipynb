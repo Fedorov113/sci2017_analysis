{
 "cells": [
  {
   "cell_type": "code",
   "execution_count": 1,
   "metadata": {},
   "outputs": [],
   "source": [
    "import numpy as np\n",
    "from biom.table import Table\n",
    "data = np.arange(40).reshape(10, 4)\n",
    "sample_ids = ['S%d' % i for i in range(4)]\n",
    "observ_ids = ['O%d' % i for i in range(10)]\n",
    "sample_metadata = [{'environment': 'A'}, {'environment': 'B'},\n",
    "                   {'environment': 'A'}, {'environment': 'B'}]\n",
    "observ_metadata = [{'taxonomy': ['Bacteria', 'Firmicutes']},\n",
    "                   {'taxonomy': ['Bacteria', 'Firmicutes']},\n",
    "                   {'taxonomy': ['Bacteria', 'Proteobacteria']},\n",
    "                   {'taxonomy': ['Bacteria', 'Proteobacteria']},\n",
    "                   {'taxonomy': ['Bacteria', 'Proteobacteria']},\n",
    "                   {'taxonomy': ['Bacteria', 'Bacteroidetes']},\n",
    "                   {'taxonomy': ['Bacteria', 'Bacteroidetes']},\n",
    "                   {'taxonomy': ['Bacteria', 'Firmicutes']},\n",
    "                   {'taxonomy': ['Bacteria', 'Firmicutes']},\n",
    "                   {'taxonomy': ['Bacteria', 'Firmicutes']}]\n",
    "table = Table(data, observ_ids, sample_ids, observ_metadata,\n",
    "              sample_metadata, table_id='Example Table')"
   ]
  },
  {
   "cell_type": "code",
   "execution_count": 2,
   "metadata": {},
   "outputs": [
    {
     "data": {
      "text/plain": [
       "array([[ 0,  1,  2,  3],\n",
       "       [ 4,  5,  6,  7],\n",
       "       [ 8,  9, 10, 11],\n",
       "       [12, 13, 14, 15],\n",
       "       [16, 17, 18, 19],\n",
       "       [20, 21, 22, 23],\n",
       "       [24, 25, 26, 27],\n",
       "       [28, 29, 30, 31],\n",
       "       [32, 33, 34, 35],\n",
       "       [36, 37, 38, 39]])"
      ]
     },
     "execution_count": 2,
     "metadata": {},
     "output_type": "execute_result"
    }
   ],
   "source": [
    "data"
   ]
  }
 ],
 "metadata": {
  "kernelspec": {
   "display_name": "Python 3",
   "language": "python",
   "name": "python3"
  },
  "language_info": {
   "codemirror_mode": {
    "name": "ipython",
    "version": 3
   },
   "file_extension": ".py",
   "mimetype": "text/x-python",
   "name": "python",
   "nbconvert_exporter": "python",
   "pygments_lexer": "ipython3",
   "version": "3.6.10"
  }
 },
 "nbformat": 4,
 "nbformat_minor": 4
}
